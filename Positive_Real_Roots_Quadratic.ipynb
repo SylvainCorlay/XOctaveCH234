{
 "cells": [
  {
   "cell_type": "code",
   "execution_count": 13,
   "metadata": {
    "tags": []
   },
   "outputs": [],
   "source": [
    "% some housekeeping stuff\n",
    "register_graphics_toolkit (\"gnuplot\");\n",
    "%available_graphics_toolkits ();\n",
    "graphics_toolkit (\"plotly\")\n",
    "clear\n",
    "%warning off\n",
    "format short e\n",
    "% end of housekeeping"
   ]
  },
  {
   "cell_type": "markdown",
   "metadata": {},
   "source": [
    "# Roots of a quadratic equation\n",
    "\n",
    "The general form of a quadratic equation is :\n",
    "\n",
    "$ax^2 + bx+c=0$\n",
    "\n",
    "it is possible to solve for the roots (x values where y=0) using the quadratic equation.  You can also solve numerically using this script.  Just input the values for a, b and c in the code below.\n",
    "\n",
    "This might be useful for doing assignments in CH261"
   ]
  },
  {
   "cell_type": "code",
   "execution_count": 14,
   "metadata": {
    "tags": []
   },
   "outputs": [
    {
     "data": {
      "text/plain": [
       "t = 2.2513e-05\n"
      ]
     },
     "metadata": {},
     "output_type": "display_data"
    },
    {
     "data": {
      "text/plain": [
       "pt = 4.6476e+00\n"
      ]
     },
     "metadata": {},
     "output_type": "display_data"
    },
    {
     "data": {
      "text/plain": [
       "ans = 9.3524e+00\n"
      ]
     },
     "metadata": {},
     "output_type": "display_data"
    }
   ],
   "source": [
    "BT=0.063683833; CaT=0.018161802; Kb=10^-4.77;\n",
    "a=1; b=Kb+BT-2*CaT; c=-2*CaT*Kb;\n",
    "t=roots([a b c]); %finds the roots\n",
    "t=t(imag(t)==0); %sets any imaginary roots to zero\n",
    "% display the positive real root\n",
    "\n",
    "t=t(t>0)\n",
    "\n",
    "% take minus log in case that might be useful (pH for example)\n",
    "\n",
    "pt=-log10(t)\n",
    "14-pt\n"
   ]
  },
  {
   "cell_type": "code",
   "execution_count": 15,
   "metadata": {
    "tags": []
   },
   "outputs": [
    {
     "data": {
      "application/vnd.plotly.v1+json": {
       "data": [
        {
         "line": {
          "color": "rgb(0,0,255)",
          "dash": "solid",
          "width": 2
         },
         "marker": {
          "color": "rgb(0,0,255)",
          "line": {
           "color": "rgb(0,0,255)"
          },
          "size": 6,
          "symbol": "none"
         },
         "mode": "lines",
         "name": "",
         "showlegend": false,
         "type": "scatter",
         "visibility": true,
         "x": [
          2.25134851185341e-07,
          2.4764833630387507e-06,
          4.72783187489216e-06,
          6.97918038674557e-06,
          9.230528898598979e-06,
          1.1481877410452388e-05,
          1.3733225922305798e-05,
          1.598457443415921e-05,
          1.823592294601262e-05,
          2.0487271457866028e-05,
          2.2738619969719437e-05,
          2.498996848157285e-05,
          2.7241316993426258e-05,
          2.9492665505279667e-05,
          3.1744014017133076e-05,
          3.399536252898648e-05,
          3.624671104083989e-05,
          3.8498059552693306e-05,
          4.074940806454671e-05,
          4.300075657640012e-05,
          4.525210508825353e-05,
          4.750345360010694e-05,
          4.975480211196035e-05,
          5.200615062381376e-05,
          5.425749913566717e-05,
          5.650884764752058e-05,
          5.876019615937399e-05,
          6.10115446712274e-05,
          6.326289318308082e-05,
          6.551424169493423e-05,
          6.776559020678763e-05,
          7.001693871864104e-05,
          7.226828723049445e-05,
          7.451963574234787e-05,
          7.677098425420128e-05,
          7.902233276605468e-05,
          8.127368127790809e-05,
          8.35250297897615e-05,
          8.577637830161491e-05,
          8.802772681346833e-05,
          9.027907532532173e-05,
          9.253042383717514e-05,
          9.478177234902855e-05,
          9.703312086088196e-05,
          9.928446937273537e-05,
          0.00010153581788458879,
          0.00010378716639644219,
          0.0001060385149082956,
          0.00010828986342014901,
          0.00011054121193200242
         ],
         "xaxis": "x",
         "y": [
          -6.106996841670081e-07,
          -5.490579576565461e-07,
          -4.874060940058404e-07,
          -4.2574409321489106e-07,
          -3.640719552836981e-07,
          -3.0238968021226153e-07,
          -2.4069726800058124e-07,
          -1.7899471864865725e-07,
          -1.1728203215648962e-07,
          -5.555920852407854e-08,
          6.173752248576337e-09,
          6.791685016147492e-08,
          1.296700852146171e-07,
          1.9143345740800286e-07,
          2.5320696674163233e-07,
          3.149906132155053e-07,
          3.7678439682962227e-07,
          4.385883175839826e-07,
          5.004023754785865e-07,
          5.622265705134344e-07,
          6.240609026885257e-07,
          6.859053720038606e-07,
          7.477599784594393e-07,
          8.096247220552616e-07,
          8.714996027913277e-07,
          9.333846206676372e-07,
          9.952797756841903e-07,
          1.0571850678409874e-06,
          1.1191004971380283e-06,
          1.1810260635753126e-06,
          1.24296176715284e-06,
          1.3049076078706118e-06,
          1.3668635857286268e-06,
          1.4288297007268857e-06,
          1.4908059528653881e-06,
          1.552792342144134e-06,
          1.6147888685631239e-06,
          1.6767955321223572e-06,
          1.7388123328218344e-06,
          1.800839270661555e-06,
          1.8628763456415193e-06,
          1.924923557761727e-06,
          1.986980907022179e-06,
          2.0490483934228743e-06,
          2.111126016963813e-06,
          2.1732137776449962e-06,
          2.2353116754664218e-06,
          2.297419710428092e-06,
          2.3595378825300055e-06,
          2.4216661917721628e-06
         ],
         "yaxis": "y"
        },
        {
         "line": {
          "color": "rgb(255,0,0)",
          "dash": "solid",
          "width": 2
         },
         "marker": {
          "color": "rgb(255,0,0)",
          "line": {
           "color": "rgb(255,0,0)"
          },
          "size": 6,
          "symbol": "none"
         },
         "mode": "lines",
         "name": "",
         "showlegend": false,
         "type": "scatter",
         "visibility": true,
         "x": [
          2.25134851185341e-05,
          2.25134851185341e-05
         ],
         "xaxis": "x",
         "y": [
          -6.106996841670081e-07,
          2.4216661917721628e-06
         ],
         "yaxis": "y"
        },
        {
         "line": {
          "color": "rgb(0, 0, 0)",
          "dash": "solid",
          "width": 2
         },
         "marker": {
          "color": "rgb(0, 0, 0)",
          "line": {
           "color": "rgb(0, 0, 0)"
          },
          "size": 6,
          "symbol": "none"
         },
         "mode": "lines",
         "name": "",
         "showlegend": false,
         "type": "scatter",
         "visibility": true,
         "x": [
          2.25134851185341e-07,
          2.4764833630387507e-06,
          4.72783187489216e-06,
          6.97918038674557e-06,
          9.230528898598979e-06,
          1.1481877410452388e-05,
          1.3733225922305798e-05,
          1.598457443415921e-05,
          1.823592294601262e-05,
          2.0487271457866028e-05,
          2.2738619969719437e-05,
          2.498996848157285e-05,
          2.7241316993426258e-05,
          2.9492665505279667e-05,
          3.1744014017133076e-05,
          3.399536252898648e-05,
          3.624671104083989e-05,
          3.8498059552693306e-05,
          4.074940806454671e-05,
          4.300075657640012e-05,
          4.525210508825353e-05,
          4.750345360010694e-05,
          4.975480211196035e-05,
          5.200615062381376e-05,
          5.425749913566717e-05,
          5.650884764752058e-05,
          5.876019615937399e-05,
          6.10115446712274e-05,
          6.326289318308082e-05,
          6.551424169493423e-05,
          6.776559020678763e-05,
          7.001693871864104e-05,
          7.226828723049445e-05,
          7.451963574234787e-05,
          7.677098425420128e-05,
          7.902233276605468e-05,
          8.127368127790809e-05,
          8.35250297897615e-05,
          8.577637830161491e-05,
          8.802772681346833e-05,
          9.027907532532173e-05,
          9.253042383717514e-05,
          9.478177234902855e-05,
          9.703312086088196e-05,
          9.928446937273537e-05,
          0.00010153581788458879,
          0.00010378716639644219,
          0.0001060385149082956,
          0.00010828986342014901,
          0.00011054121193200242
         ],
         "xaxis": "x",
         "y": [
          0,
          0,
          0,
          0,
          0,
          0,
          0,
          0,
          0,
          0,
          0,
          0,
          0,
          0,
          0,
          0,
          0,
          0,
          0,
          0,
          0,
          0,
          0,
          0,
          0,
          0,
          0,
          0,
          0,
          0,
          0,
          0,
          0,
          0,
          0,
          0,
          0,
          0,
          0,
          0,
          0,
          0,
          0,
          0,
          0,
          0,
          0,
          0,
          0,
          0
         ],
         "yaxis": "y"
        }
       ],
       "layout": {
        "height": 420,
        "hovermode": "closest",
        "margin": {
         "b": 0,
         "l": 0,
         "r": 0,
         "t": 0
        },
        "plot_bgcolor": "rgba(0, 0, 0, 0)",
        "showlegend": false,
        "width": 560,
        "xaxis": {
         "anchor": "y",
         "autorange": false,
         "domain": [
          0.13571428571428568,
          0.905
         ],
         "exponentformat": "none",
         "gridcolor": "rgba(38,38,38,0.15)",
         "gridwidth": 2,
         "linecolor": "rgb(38,38,38)",
         "linewidth": 2,
         "mirror": "ticks",
         "range": [
          0,
          0.00012000000000000002
         ],
         "showgrid": false,
         "showline": true,
         "side": "bottom",
         "spikedash": "solid",
         "spikemode": "across",
         "spikesides": false,
         "spikethickness": 1,
         "tickangle": 0,
         "tickcolor": "rgb(38,38,38)",
         "tickfont": {
          "color": "rgb(38,38,38)",
          "size": 14
         },
         "ticklen": 3,
         "ticks": "inside",
         "ticktext": [
          "0",
          "2e-05",
          "4e-05",
          "6e-05",
          "8e-05",
          "0.0001",
          "0.00012"
         ],
         "tickvals": [
          0,
          2e-05,
          4e-05,
          6.000000000000001e-05,
          8e-05,
          0.0001,
          0.00012000000000000002
         ],
         "title": {
          "font": {
           "color": "rgb(38,38,38)",
           "size": 15
          },
          "text": "x values"
         },
         "type": "linear",
         "visible": true,
         "zeroline": false
        },
        "yaxis": {
         "anchor": "x",
         "autorange": false,
         "domain": [
          0.11,
          0.9249999999999999
         ],
         "exponentformat": "none",
         "gridcolor": "rgba(38,38,38,0.15)",
         "gridwidth": 2,
         "linecolor": "rgb(38,38,38)",
         "linewidth": 2,
         "mirror": "ticks",
         "range": [
          -1e-06,
          2.4999999999999998e-06
         ],
         "showgrid": false,
         "showline": true,
         "side": "left",
         "spikedash": "solid",
         "spikemode": "across",
         "spikesides": false,
         "spikethickness": 1,
         "tickangle": 0,
         "tickcolor": "rgb(38,38,38)",
         "tickfont": {
          "color": "rgb(38,38,38)",
          "size": 14
         },
         "ticklen": 3,
         "ticks": "inside",
         "ticktext": [
          "-1e-06",
          "-5e-07",
          "0",
          "5e-07",
          "1e-06",
          "1.5e-06",
          "2e-06",
          "2.5e-06"
         ],
         "tickvals": [
          -1e-06,
          -5e-07,
          0,
          5e-07,
          1e-06,
          1.5e-06,
          2e-06,
          2.4999999999999998e-06
         ],
         "title": {
          "font": {
           "color": "rgb(38,38,38)",
           "size": 15
          },
          "text": "y values"
         },
         "type": "linear",
         "visible": true,
         "zeroline": false
        }
       }
      },
      "image/png": "[encoded data removed]"
     },
     "metadata": {},
     "output_type": "display_data"
    }
   ],
   "source": [
    "x=[0.01*t:t/10:t*5];\n",
    "y=a*x.^2+b.*x+c;\n",
    "\n",
    "plot(x,y,'b-','linewidth',2)\n",
    "hold on\n",
    "plot([t t],[min(y) max(y)],'r','linewidth',2)\n",
    "plot(x,zeros(size(x)),'k','linewidth',2)\n",
    "set(gca,'linewidth',2,'fontsize',14)\n",
    "xlabel('x values','fontsize',15); ylabel('y values','fontsize',15)\n",
    "%axis([min(x) max(x) min(y) max(y)])"
   ]
  },
  {
   "cell_type": "code",
   "execution_count": null,
   "metadata": {
    "tags": []
   },
   "outputs": [],
   "source": []
  }
 ],
 "metadata": {
  "celltoolbar": "Tags",
  "kernelspec": {
   "display_name": "Octave (xoctave)",
   "language": "Octave",
   "name": "xoctave"
  },
  "language_info": {
   "codemirror_mode": "octave",
   "file_extension": ".m",
   "mimetype": "text/x-octave",
   "name": "Octave",
   "nbconvert_exporter": "",
   "pygments_lexer": "octave",
   "version": "7.3.0"
  }
 },
 "nbformat": 4,
 "nbformat_minor": 4
}
