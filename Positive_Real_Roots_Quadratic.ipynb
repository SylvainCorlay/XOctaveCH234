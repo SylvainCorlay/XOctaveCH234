{
 "cells": [
  {
   "cell_type": "code",
   "execution_count": 1,
   "metadata": {
    "tags": []
   },
   "outputs": [],
   "source": [
    "% some housekeeping stuff\n",
    "register_graphics_toolkit (\"gnuplot\");\n",
    "%available_graphics_toolkits ();\n",
    "graphics_toolkit (\"plotly\")\n",
    "clear\n",
    "%warning off\n",
    "format short e\n",
    "% end of housekeeping"
   ]
  },
  {
   "cell_type": "markdown",
   "metadata": {},
   "source": [
    "# Roots of a quadratic equation\n",
    "\n",
    "The general form of a quadratic equation is :\n",
    "\n",
    "$ax^2 + bx+c=0$\n",
    "\n",
    "it is possible to solve for the roots (x values where y=0) using the quadratic equation.  You can also solve numerically using this script.  Just input the values for a, b and c in the code below.\n",
    "\n",
    "This might be useful for doing assignments in CH261"
   ]
  },
  {
   "cell_type": "code",
   "execution_count": 2,
   "metadata": {
    "tags": []
   },
   "outputs": [
    {
     "data": {
      "text/plain": [
       "t = 1.8420e-04\n"
      ]
     },
     "metadata": {},
     "output_type": "display_data"
    },
    {
     "data": {
      "text/plain": [
       "pt = 3.7347e+00\n"
      ]
     },
     "metadata": {},
     "output_type": "display_data"
    },
    {
     "data": {
      "text/plain": [
       "ans = 1.0265e+01\n"
      ]
     },
     "metadata": {},
     "output_type": "display_data"
    }
   ],
   "source": [
    "Ka=10^-4.919; AT=0.003; \n",
    "a=1; b=Ka; c=-Ka*AT;\n",
    "t=roots([a b c]); %finds the roots\n",
    "t=t(imag(t)==0); %sets any imaginary roots to zero\n",
    "% display the positive real root\n",
    "\n",
    "t=t(t>0)\n",
    "\n",
    "% take minus log in case that might be useful (pH for example)\n",
    "\n",
    "pt=-log10(t)\n",
    "14-pt\n"
   ]
  },
  {
   "cell_type": "code",
   "execution_count": 3,
   "metadata": {
    "tags": []
   },
   "outputs": [
    {
     "data": {
      "application/vnd.plotly.v1+json": {
       "data": [
        {
         "line": {
          "color": "rgb(0,0,255)",
          "dash": "solid",
          "width": 2
         },
         "marker": {
          "color": "rgb(0,0,255)",
          "line": {
           "color": "rgb(0,0,255)"
          },
          "size": 6,
          "symbol": "none"
         },
         "mode": "lines",
         "name": "",
         "showlegend": false,
         "type": "scatter",
         "visibility": true,
         "x": [
          1.8420463132047699e-06,
          2.0262509445252466e-05,
          3.868297257730016e-05,
          5.710343570934786e-05,
          7.552389884139555e-05,
          9.394436197344324e-05,
          0.00011236482510549094,
          0.00013078528823753864,
          0.00014920575136958633,
          0.00016762621450163402,
          0.0001860466776336817,
          0.00020446714076572943,
          0.00022288760389777712,
          0.0002413080670298248,
          0.00025972853016187255,
          0.00027814899329392024,
          0.00029656945642596793,
          0.0003149899195580156,
          0.0003334103826900633,
          0.000351830845822111,
          0.0003702513089541587,
          0.00038867177208620643,
          0.0004070922352182541,
          0.0004255126983503018,
          0.0004439331614823495,
          0.0004623536246143972,
          0.0004807740877464449,
          0.0004991945508784926,
          0.0005176150140105403,
          0.0005360354771425879,
          0.0005544559402746356,
          0.0005728764034066833,
          0.000591296866538731,
          0.0006097173296707787,
          0.0006281377928028264,
          0.0006465582559348741,
          0.0006649787190669218,
          0.0006833991821989695,
          0.0007018196453310172,
          0.0007202401084630648,
          0.0007386605715951125,
          0.0007570810347271603,
          0.000775501497859208,
          0.0007939219609912557,
          0.0008123424241233034,
          0.0008307628872553511,
          0.0008491833503873988,
          0.0008676038135194465,
          0.0008860242766514942,
          0.0009044447397835418
         ],
         "xaxis": "x",
         "y": [
          -3.612548775642156e-08,
          -3.5496338400898495e-08,
          -3.418856212137717e-08,
          -3.220215891785759e-08,
          -2.9537128790339758e-08,
          -2.6193471738823664e-08,
          -2.2171187763309313e-08,
          -1.7470276863796704e-08,
          -1.2090739040285845e-08,
          -6.032574292776728e-09,
          7.042173787306494e-10,
          8.119635974236288e-09,
          1.6213681493740173e-08,
          2.4986353937242326e-08,
          3.4437653304742747e-08,
          4.4567579596241414e-08,
          5.5376132811738317e-08,
          6.686331295123349e-08,
          7.902912001472694e-08,
          9.187355400221861e-08,
          1.0539661491370855e-07,
          1.1959830274919677e-07,
          1.344786175086832e-07,
          1.5003755919216795e-07,
          1.662751277996509e-07,
          1.8319132333113212e-07,
          2.0078614578661163e-07,
          2.1905959516608933e-07,
          2.3801167146956537e-07,
          2.576423746970396e-07,
          2.7795170484851214e-07,
          2.989396619239829e-07,
          3.206062459234519e-07,
          3.4295145684691915e-07,
          3.6597529469438467e-07,
          3.8967775946584854e-07,
          4.1405885116131055e-07,
          4.3911856978077086e-07,
          4.6485691532422947e-07,
          4.912738877916862e-07,
          5.183694871831413e-07,
          5.461437134985947e-07,
          5.745965667380464e-07,
          6.037280469014961e-07,
          6.335381539889443e-07,
          6.640268880003907e-07,
          6.951942489358353e-07,
          7.270402367952782e-07,
          7.595648515787192e-07,
          7.927680932861587e-07
         ],
         "yaxis": "y"
        },
        {
         "line": {
          "color": "rgb(255,0,0)",
          "dash": "solid",
          "width": 2
         },
         "marker": {
          "color": "rgb(255,0,0)",
          "line": {
           "color": "rgb(255,0,0)"
          },
          "size": 6,
          "symbol": "none"
         },
         "mode": "lines",
         "name": "",
         "showlegend": false,
         "type": "scatter",
         "visibility": true,
         "x": [
          0.00018420463132047698,
          0.00018420463132047698
         ],
         "xaxis": "x",
         "y": [
          -3.612548775642156e-08,
          7.927680932861587e-07
         ],
         "yaxis": "y"
        },
        {
         "line": {
          "color": "rgb(0, 0, 0)",
          "dash": "solid",
          "width": 2
         },
         "marker": {
          "color": "rgb(0, 0, 0)",
          "line": {
           "color": "rgb(0, 0, 0)"
          },
          "size": 6,
          "symbol": "none"
         },
         "mode": "lines",
         "name": "",
         "showlegend": false,
         "type": "scatter",
         "visibility": true,
         "x": [
          1.8420463132047699e-06,
          2.0262509445252466e-05,
          3.868297257730016e-05,
          5.710343570934786e-05,
          7.552389884139555e-05,
          9.394436197344324e-05,
          0.00011236482510549094,
          0.00013078528823753864,
          0.00014920575136958633,
          0.00016762621450163402,
          0.0001860466776336817,
          0.00020446714076572943,
          0.00022288760389777712,
          0.0002413080670298248,
          0.00025972853016187255,
          0.00027814899329392024,
          0.00029656945642596793,
          0.0003149899195580156,
          0.0003334103826900633,
          0.000351830845822111,
          0.0003702513089541587,
          0.00038867177208620643,
          0.0004070922352182541,
          0.0004255126983503018,
          0.0004439331614823495,
          0.0004623536246143972,
          0.0004807740877464449,
          0.0004991945508784926,
          0.0005176150140105403,
          0.0005360354771425879,
          0.0005544559402746356,
          0.0005728764034066833,
          0.000591296866538731,
          0.0006097173296707787,
          0.0006281377928028264,
          0.0006465582559348741,
          0.0006649787190669218,
          0.0006833991821989695,
          0.0007018196453310172,
          0.0007202401084630648,
          0.0007386605715951125,
          0.0007570810347271603,
          0.000775501497859208,
          0.0007939219609912557,
          0.0008123424241233034,
          0.0008307628872553511,
          0.0008491833503873988,
          0.0008676038135194465,
          0.0008860242766514942,
          0.0009044447397835418
         ],
         "xaxis": "x",
         "y": [
          0,
          0,
          0,
          0,
          0,
          0,
          0,
          0,
          0,
          0,
          0,
          0,
          0,
          0,
          0,
          0,
          0,
          0,
          0,
          0,
          0,
          0,
          0,
          0,
          0,
          0,
          0,
          0,
          0,
          0,
          0,
          0,
          0,
          0,
          0,
          0,
          0,
          0,
          0,
          0,
          0,
          0,
          0,
          0,
          0,
          0,
          0,
          0,
          0,
          0
         ],
         "yaxis": "y"
        }
       ],
       "layout": {
        "height": 420,
        "hovermode": "closest",
        "margin": {
         "b": 0,
         "l": 0,
         "r": 0,
         "t": 0
        },
        "plot_bgcolor": "rgba(0, 0, 0, 0)",
        "showlegend": false,
        "width": 560,
        "xaxis": {
         "anchor": "y",
         "autorange": false,
         "domain": [
          0.13,
          0.905
         ],
         "exponentformat": "none",
         "gridcolor": "rgba(38,38,38,0.15)",
         "gridwidth": 2,
         "linecolor": "rgb(38,38,38)",
         "linewidth": 2,
         "mirror": "ticks",
         "range": [
          0,
          0.001
         ],
         "showgrid": false,
         "showline": true,
         "side": "bottom",
         "spikedash": "solid",
         "spikemode": "across",
         "spikesides": false,
         "spikethickness": 1,
         "tickangle": 0,
         "tickcolor": "rgb(38,38,38)",
         "tickfont": {
          "color": "rgb(38,38,38)",
          "size": 14
         },
         "ticklen": 3,
         "ticks": "inside",
         "ticktext": [
          "0",
          "0.0002",
          "0.0004",
          "0.0006",
          "0.0008",
          "0.001"
         ],
         "tickvals": [
          0,
          0.0002,
          0.0004,
          0.0006000000000000001,
          0.0008,
          0.001
         ],
         "title": {
          "font": {
           "color": "rgb(38,38,38)",
           "size": 15
          },
          "text": "x values"
         },
         "type": "linear",
         "visible": true,
         "zeroline": false
        },
        "yaxis": {
         "anchor": "x",
         "autorange": false,
         "domain": [
          0.11,
          0.9249999999999999
         ],
         "exponentformat": "none",
         "gridcolor": "rgba(38,38,38,0.15)",
         "gridwidth": 2,
         "linecolor": "rgb(38,38,38)",
         "linewidth": 2,
         "mirror": "ticks",
         "range": [
          -2e-07,
          8e-07
         ],
         "showgrid": false,
         "showline": true,
         "side": "left",
         "spikedash": "solid",
         "spikemode": "across",
         "spikesides": false,
         "spikethickness": 1,
         "tickangle": 0,
         "tickcolor": "rgb(38,38,38)",
         "tickfont": {
          "color": "rgb(38,38,38)",
          "size": 14
         },
         "ticklen": 3,
         "ticks": "inside",
         "ticktext": [
          "-2e-07",
          "0",
          "2e-07",
          "4e-07",
          "6e-07",
          "8e-07"
         ],
         "tickvals": [
          -2e-07,
          0,
          2e-07,
          4e-07,
          6e-07,
          8e-07
         ],
         "title": {
          "font": {
           "color": "rgb(38,38,38)",
           "size": 15
          },
          "text": "y values"
         },
         "type": "linear",
         "visible": true,
         "zeroline": false
        }
       }
      },
      "image/png": "[encoded data removed]"
     },
     "metadata": {},
     "output_type": "display_data"
    }
   ],
   "source": [
    "x=[0.01*t:t/10:t*5];\n",
    "y=a*x.^2+b.*x+c;\n",
    "\n",
    "plot(x,y,'b-','linewidth',2)\n",
    "hold on\n",
    "plot([t t],[min(y) max(y)],'r','linewidth',2)\n",
    "plot(x,zeros(size(x)),'k','linewidth',2)\n",
    "set(gca,'linewidth',2,'fontsize',14)\n",
    "xlabel('x values','fontsize',15); ylabel('y values','fontsize',15)\n",
    "%axis([min(x) max(x) min(y) max(y)])"
   ]
  },
  {
   "cell_type": "code",
   "execution_count": null,
   "metadata": {
    "tags": []
   },
   "outputs": [],
   "source": []
  }
 ],
 "metadata": {
  "celltoolbar": "Tags",
  "kernelspec": {
   "display_name": "Octave (xoctave)",
   "language": "Octave",
   "name": "xoctave"
  },
  "language_info": {
   "codemirror_mode": "octave",
   "file_extension": ".m",
   "mimetype": "text/x-octave",
   "name": "Octave",
   "nbconvert_exporter": "",
   "pygments_lexer": "octave",
   "version": "7.3.0"
  }
 },
 "nbformat": 4,
 "nbformat_minor": 4
}
