{
 "cells": [
  {
   "cell_type": "code",
   "execution_count": 3,
   "metadata": {},
   "outputs": [],
   "source": [
    "% some housekeeping stuff\n",
    "%register_graphics_toolkit (\"gnuplot\");\n",
    "%available_graphics_toolkits ()\n",
    "graphics_toolkit (\"plotly\")\n",
    "clear\n",
    "% end of housekeeping"
   ]
  },
  {
   "cell_type": "markdown",
   "metadata": {},
   "source": [
    "# Cd chlorocomplexation\n",
    "\n",
    "The overall complexation constants for Cd$^{2+}$ with Cl$^-$ are $\\log{\\beta_1}=1.35$, $\\log{\\beta_1}=1.7$ and $\\log{\\beta_3}=1.9$ corresponding to the following reactions (in order)\n",
    "\n",
    "$\\mathrm{Cd^{2+}}+\\mathrm{Cl^-} \\leftrightharpoons \\mathrm{CdCl^+}$\n",
    "\n",
    "$\\mathrm{Cd^{2+}}+2\\mathrm{Cl^-} \\leftrightharpoons \\mathrm{CdCl_2^0}$\n",
    "\n",
    "$\\mathrm{Cd^{2+}}+3\\mathrm{Cl^-} \\leftrightharpoons \\mathrm{CdCl_3^-}$\n",
    "\n",
    "We derived the alpha expressions for these 4 species in class\n",
    "\n",
    "$\\alpha_{\\mathrm{Cd^{2+}}} = \\dfrac{1}{1+\\beta_1[\\mathrm{Cl^-}]+\\beta_2[\\mathrm{Cl^-}]^2+\\beta_3[\\mathrm{Cl^-}]^3}$\n",
    "\n",
    "\n",
    "$\\alpha_{\\mathrm{CdCl^{+}}} = \\dfrac{\\beta_1[\\mathrm{Cl^-}]}{1+\\beta_1[\\mathrm{Cl^-}]+\\beta_2[\\mathrm{Cl^-}]^2+\\beta_3[\\mathrm{Cl^-}]^3}$\n",
    "\n",
    "\n",
    "$\\alpha_{\\mathrm{CdCl_2^{0}}} = \\dfrac{\\beta_2[\\mathrm{Cl^-}]^2}{1+\\beta_1[\\mathrm{Cl^-}]+\\beta_2[\\mathrm{Cl^-}]^2+\\beta_3[\\mathrm{Cl^-}]^3}$\n",
    "\n",
    "\n",
    "$\\alpha_{\\mathrm{CdCl_3^{-}}} = \\dfrac{\\beta_3[\\mathrm{Cl^-}]^3}{1+\\beta_1[\\mathrm{Cl^-}]+\\beta_2[\\mathrm{Cl^-}]^2+\\beta_3[\\mathrm{Cl^-}]^3}$\n",
    "\n",
    "In class we learned how to quickly sketch the distribution diagram using the step-wise formation constants.  We can make a more quantitative sketch though using these expressions (note, we assume that $\\mathrm{Cd_T}<<\\mathrm{Cl_T}$ so that we can assume that $[\\mathrm{Cl^-}]=\\mathrm{Cl_T}$)."
   ]
  },
  {
   "cell_type": "code",
   "execution_count": 4,
   "metadata": {
    "tags": []
   },
   "outputs": [
    {
     "data": {
      "application/vnd.plotly.v1+json": {
       "data": [
        {
         "line": {
          "color": "rgb(0,0,255)",
          "dash": "solid",
          "width": 2
         },
         "marker": {
          "color": "rgb(0,0,255)",
          "line": {
           "color": "rgb(0,0,255)"
          },
          "size": 6,
          "symbol": "none"
         },
         "mode": "lines",
         "name": "Cd^{2+}",
         "showlegend": true,
         "type": "scatter",
         "visibility": true,
         "x": [
          -3.5,
          -3.4,
          -3.3,
          -3.2,
          -3.1,
          -3,
          -2.9,
          -2.8,
          -2.7,
          -2.6,
          -2.5,
          -2.4,
          -2.3,
          -2.2,
          -2.0999999999999996,
          -2,
          -1.9,
          -1.7999999999999998,
          -1.7,
          -1.5999999999999999,
          -1.5,
          -1.4,
          -1.2999999999999998,
          -1.1999999999999997,
          -1.0999999999999996,
          -1,
          -0.8999999999999999,
          -0.7999999999999998,
          -0.6999999999999997,
          -0.5999999999999996,
          -0.5,
          -0.3999999999999999,
          -0.2999999999999998,
          -0.19999999999999973,
          -0.09999999999999964,
          0
         ],
         "xaxis": "x",
         "y": [
          0.9929653644521095,
          0.9911584133241697,
          0.988891990076747,
          0.986051951971589,
          0.9824973436261834,
          0.9780549798623631,
          0.97251344348295,
          0.9656167553320282,
          0.957058217661339,
          0.946475289818094,
          0.9334468475754819,
          0.9174947995275426,
          0.8980927260836982,
          0.8746848088813837,
          0.8467185212250874,
          0.8136938695866177,
          0.7752298167128591,
          0.7311444048314703,
          0.6815391352327734,
          0.6268715928410595,
          0.5679958014356313,
          0.5061508376189137,
          0.4428872537497,
          0.3799368424442977,
          0.3190486843079607,
          0.261825259585139,
          0.20959085728940563,
          0.163310977999931,
          0.12356272485670229,
          0.0905418504977057,
          0.06408934932397502,
          0.04372987101629562,
          0.028727840449823076,
          0.018171700923583715,
          0.011084472935628203,
          0.006538564923850312
         ],
         "yaxis": "y"
        },
        {
         "line": {
          "color": "rgb(0,255,0)",
          "dash": "solid",
          "width": 2
         },
         "marker": {
          "color": "rgb(0,255,0)",
          "line": {
           "color": "rgb(0,255,0)"
          },
          "size": 6,
          "symbol": "none"
         },
         "mode": "lines",
         "name": "CdCl^+",
         "showlegend": true,
         "type": "scatter",
         "visibility": true,
         "x": [
          -3.5,
          -3.4,
          -3.3,
          -3.2,
          -3.1,
          -3,
          -2.9,
          -2.8,
          -2.7,
          -2.6,
          -2.5,
          -2.4,
          -2.3,
          -2.2,
          -2.0999999999999996,
          -2,
          -1.9,
          -1.7999999999999998,
          -1.7,
          -1.5999999999999999,
          -1.5,
          -1.4,
          -1.2999999999999998,
          -1.1999999999999997,
          -1.0999999999999996,
          -1,
          -0.8999999999999999,
          -0.7999999999999998,
          -0.6999999999999997,
          -0.5999999999999996,
          -0.5,
          -0.3999999999999999,
          -0.2999999999999998,
          -0.19999999999999973,
          -0.09999999999999964,
          0
         ],
         "xaxis": "x",
         "y": [
          0.007029656438033302,
          0.008833708657143212,
          0.01109555062177505,
          0.01392835403108422,
          0.01747154796588378,
          0.02189592358099905,
          0.027409152895375655,
          0.034261375366008526,
          0.04275022025625652,
          0.053224216873622665,
          0.06608297606877254,
          0.08177181008117555,
          0.10076766123402682,
          0.12355251322561327,
          0.15057021123931788,
          0.1821633666167031,
          0.2184894483230794,
          0.2594198242974195,
          0.3044323491172364,
          0.35251580224242657,
          0.4021102331742451,
          0.4511074088650381,
          0.4969276718822801,
          0.5366750545379909,
          0.5673577061048555,
          0.5861537432443936,
          0.5907072947335451,
          0.5794492160320543,
          0.5519344179495292,
          0.5091542419406634,
          0.4537178467783052,
          0.38974288567741167,
          0.3223316713694393,
          0.25668209804217995,
          0.19711289992561348,
          0.14638023510925183
         ],
         "yaxis": "y"
        },
        {
         "line": {
          "color": "rgb(255,0,255)",
          "dash": "solid",
          "width": 2
         },
         "marker": {
          "color": "rgb(255,0,255)",
          "line": {
           "color": "rgb(255,0,255)"
          },
          "size": 6,
          "symbol": "none"
         },
         "mode": "lines",
         "name": "CdCl_2",
         "showlegend": true,
         "type": "scatter",
         "visibility": true,
         "x": [
          -3.5,
          -3.4,
          -3.3,
          -3.2,
          -3.1,
          -3,
          -2.9,
          -2.8,
          -2.7,
          -2.6,
          -2.5,
          -2.4,
          -2.3,
          -2.2,
          -2.0999999999999996,
          -2,
          -1.9,
          -1.7999999999999998,
          -1.7,
          -1.5999999999999999,
          -1.5,
          -1.4,
          -1.2999999999999998,
          -1.1999999999999997,
          -1.0999999999999996,
          -1,
          -0.8999999999999999,
          -0.7999999999999998,
          -0.6999999999999997,
          -0.5999999999999996,
          -0.5,
          -0.3999999999999999,
          -0.2999999999999998,
          -0.19999999999999973,
          -0.09999999999999964,
          0
         ],
         "xaxis": "x",
         "y": [
          4.976615640974489e-06,
          7.873051127879078e-06,
          1.2449412558273235e-05,
          1.967432300370413e-05,
          3.1069294009238535e-05,
          4.901886696925952e-05,
          7.724948868074444e-05,
          0.00012156394713417219,
          0.0001909582194930952,
          0.0002993017664893149,
          0.0004678316432744539,
          0.0007287920244774217,
          0.0011306317550142666,
          0.0017452256366367802,
          0.002677559064120903,
          0.004078129795175874,
          0.006157869318151539,
          0.009204562709334606,
          0.01359849352706432,
          0.01982342033835452,
          0.02846722444334294,
          0.04020499013500483,
          0.055756201830522926,
          0.07580736637973767,
          0.10089205268931796,
          0.1312234775452183,
          0.16648393568504247,
          0.2055963402290715,
          0.24654004844144684,
          0.2863184711392005,
          0.3212076369265493,
          0.3473587124909463,
          0.36166208368250674,
          0.36257310051711805,
          0.3505218113907813,
          0.3277045266076854
         ],
         "yaxis": "y"
        },
        {
         "line": {
          "color": "rgb(0, 0, 0)",
          "dash": "solid",
          "width": 2
         },
         "marker": {
          "color": "rgb(0, 0, 0)",
          "line": {
           "color": "rgb(0, 0, 0)"
          },
          "size": 6,
          "symbol": "none"
         },
         "mode": "lines",
         "name": "CdCl_3^-",
         "showlegend": true,
         "type": "scatter",
         "visibility": true,
         "x": [
          -3.5,
          -3.4,
          -3.3,
          -3.2,
          -3.1,
          -3,
          -2.9,
          -2.8,
          -2.7,
          -2.6,
          -2.5,
          -2.4,
          -2.3,
          -2.2,
          -2.0999999999999996,
          -2,
          -1.9,
          -1.7999999999999998,
          -1.7,
          -1.5999999999999999,
          -1.5,
          -1.4,
          -1.2999999999999998,
          -1.1999999999999997,
          -1.0999999999999996,
          -1,
          -0.8999999999999999,
          -0.7999999999999998,
          -0.6999999999999997,
          -0.5999999999999996,
          -0.5,
          -0.3999999999999999,
          -0.2999999999999998,
          -0.19999999999999973,
          -0.09999999999999964,
          0
         ],
         "xaxis": "x",
         "y": [
          2.4942162259262187e-09,
          4.967559432603375e-09,
          9.888919900767486e-09,
          1.9674323003704123e-08,
          3.9113923754734666e-08,
          7.768966856173636e-08,
          1.5413299361530445e-07,
          3.053548293670751e-07,
          6.038629115285445e-07,
          1.1915417939872468e-06,
          2.3447124709602443e-06,
          4.5983668044261806e-06,
          8.98092726083699e-06,
          1.7452256366367796e-05,
          3.370847147401615e-05,
          6.463400150347077e-05,
          0.00012286564591010876,
          0.00023120816177556668,
          0.0004300221229257982,
          0.0007891845781594969,
          0.0014267409467805716,
          0.002536763381043502,
          0.004428872537497005,
          0.007580736637973771,
          0.012701556897865852,
          0.020797519625249027,
          0.0332179122920068,
          0.05164346573894322,
          0.07796280875232178,
          0.11398543642243038,
          0.16098516697117052,
          0.21916853081534643,
          0.287278404498231,
          0.3625731005171183,
          0.4412808157479771,
          0.5193766733592124
         ],
         "yaxis": "y"
        },
        {
         "line": {
          "color": "rgb(0, 0, 0)",
          "dash": "dot",
          "width": 2
         },
         "marker": {
          "color": "rgb(0, 0, 0)",
          "line": {
           "color": "rgb(0, 0, 0)"
          },
          "size": 6,
          "symbol": "none"
         },
         "mode": "lines",
         "name": "data1",
         "showlegend": true,
         "type": "scatter",
         "visibility": true,
         "x": [
          -1.35,
          -1.35
         ],
         "xaxis": "x",
         "y": [
          0,
          1
         ],
         "yaxis": "y"
        },
        {
         "line": {
          "color": "rgb(0, 0, 0)",
          "dash": "dot",
          "width": 2
         },
         "marker": {
          "color": "rgb(0, 0, 0)",
          "line": {
           "color": "rgb(0, 0, 0)"
          },
          "size": 6,
          "symbol": "none"
         },
         "mode": "lines",
         "name": "data2",
         "showlegend": true,
         "type": "scatter",
         "visibility": true,
         "x": [
          -0.35,
          -0.35
         ],
         "xaxis": "x",
         "y": [
          0,
          1
         ],
         "yaxis": "y"
        },
        {
         "line": {
          "color": "rgb(0, 0, 0)",
          "dash": "dot",
          "width": 2
         },
         "marker": {
          "color": "rgb(0, 0, 0)",
          "line": {
           "color": "rgb(0, 0, 0)"
          },
          "size": 6,
          "symbol": "none"
         },
         "mode": "lines",
         "name": "data3",
         "showlegend": true,
         "type": "scatter",
         "visibility": true,
         "x": [
          -0.2,
          -0.2
         ],
         "xaxis": "x",
         "y": [
          0,
          1
         ],
         "yaxis": "y"
        },
        {
         "line": {
          "color": "rgb(255,255,0)",
          "dash": "solid",
          "width": 2
         },
         "marker": {
          "color": "rgb(255,255,0)",
          "line": {
           "color": "rgb(255,255,0)"
          },
          "size": 6,
          "symbol": "none"
         },
         "mode": "lines",
         "name": "data4",
         "showlegend": true,
         "type": "scatter",
         "visibility": true,
         "x": [
          -0.3010299956639812,
          -0.3010299956639812
         ],
         "xaxis": "x",
         "y": [
          0,
          1
         ],
         "yaxis": "y"
        },
        {
         "line": {
          "color": "rgb(255,255,0)",
          "dash": "solid",
          "width": 2
         },
         "marker": {
          "color": "rgb(255,255,0)",
          "line": {
           "color": "rgb(255,255,0)"
          },
          "size": 6,
          "symbol": "none"
         },
         "mode": "lines",
         "name": "data5",
         "showlegend": true,
         "type": "scatter",
         "visibility": true,
         "x": [
          -3,
          -3
         ],
         "xaxis": "x",
         "y": [
          0,
          1
         ],
         "yaxis": "y"
        },
        {
         "hoverinfo": "none",
         "line": {
          "color": "rgb(0,0,255)",
          "dash": "solid",
          "width": 2
         },
         "marker": {
          "color": "rgb(0,0,255)",
          "line": {
           "color": "rgb(0,0,255)"
          },
          "size": 6,
          "symbol": "none"
         },
         "mode": "lines",
         "name": "",
         "showlegend": false,
         "type": "scatter",
         "visibility": true,
         "x": [
          3,
          18
         ],
         "xaxis": "x2",
         "y": [
          7.868593955321941,
          7.868593955321941
         ],
         "yaxis": "y2"
        },
        {
         "hoverinfo": "none",
         "line": {
          "color": "rgb(0,255,0)",
          "dash": "solid",
          "width": 2
         },
         "marker": {
          "color": "rgb(0,255,0)",
          "line": {
           "color": "rgb(0,255,0)"
          },
          "size": 6,
          "symbol": "none"
         },
         "mode": "lines",
         "name": "",
         "showlegend": false,
         "type": "scatter",
         "visibility": true,
         "x": [
          3,
          18
         ],
         "xaxis": "x2",
         "y": [
          19.517187910643884,
          19.517187910643884
         ],
         "yaxis": "y2"
        },
        {
         "hoverinfo": "none",
         "line": {
          "color": "rgb(255,0,255)",
          "dash": "solid",
          "width": 2
         },
         "marker": {
          "color": "rgb(255,0,255)",
          "line": {
           "color": "rgb(255,0,255)"
          },
          "size": 6,
          "symbol": "none"
         },
         "mode": "lines",
         "name": "",
         "showlegend": false,
         "type": "scatter",
         "visibility": true,
         "x": [
          3,
          18
         ],
         "xaxis": "x2",
         "y": [
          30.416767411300903,
          30.416767411300903
         ],
         "yaxis": "y2"
        },
        {
         "hoverinfo": "none",
         "line": {
          "color": "rgb(0, 0, 0)",
          "dash": "solid",
          "width": 2
         },
         "marker": {
          "color": "rgb(0, 0, 0)",
          "line": {
           "color": "rgb(0, 0, 0)"
          },
          "size": 6,
          "symbol": "none"
         },
         "mode": "lines",
         "name": "",
         "showlegend": false,
         "type": "scatter",
         "visibility": true,
         "x": [
          3,
          18
         ],
         "xaxis": "x2",
         "y": [
          41.655926412614974,
          41.655926412614974
         ],
         "yaxis": "y2"
        },
        {
         "hoverinfo": "none",
         "line": {
          "color": "rgb(0, 0, 0)",
          "dash": "dot",
          "width": 2
         },
         "marker": {
          "color": "rgb(0, 0, 0)",
          "line": {
           "color": "rgb(0, 0, 0)"
          },
          "size": 6,
          "symbol": "none"
         },
         "mode": "lines",
         "name": "",
         "showlegend": false,
         "type": "scatter",
         "visibility": true,
         "x": [
          3,
          18
         ],
         "xaxis": "x2",
         "y": [
          52.555505913272015,
          52.555505913272015
         ],
         "yaxis": "y2"
        },
        {
         "hoverinfo": "none",
         "line": {
          "color": "rgb(0, 0, 0)",
          "dash": "dot",
          "width": 2
         },
         "marker": {
          "color": "rgb(0, 0, 0)",
          "line": {
           "color": "rgb(0, 0, 0)"
          },
          "size": 6,
          "symbol": "none"
         },
         "mode": "lines",
         "name": "",
         "showlegend": false,
         "type": "scatter",
         "visibility": true,
         "x": [
          3,
          18
         ],
         "xaxis": "x2",
         "y": [
          63.11550591327202,
          63.11550591327202
         ],
         "yaxis": "y2"
        },
        {
         "hoverinfo": "none",
         "line": {
          "color": "rgb(0, 0, 0)",
          "dash": "dot",
          "width": 2
         },
         "marker": {
          "color": "rgb(0, 0, 0)",
          "line": {
           "color": "rgb(0, 0, 0)"
          },
          "size": 6,
          "symbol": "none"
         },
         "mode": "lines",
         "name": "",
         "showlegend": false,
         "type": "scatter",
         "visibility": true,
         "x": [
          3,
          18
         ],
         "xaxis": "x2",
         "y": [
          73.67550591327202,
          73.67550591327202
         ],
         "yaxis": "y2"
        },
        {
         "hoverinfo": "none",
         "line": {
          "color": "rgb(255,255,0)",
          "dash": "solid",
          "width": 2
         },
         "marker": {
          "color": "rgb(255,255,0)",
          "line": {
           "color": "rgb(255,255,0)"
          },
          "size": 6,
          "symbol": "none"
         },
         "mode": "lines",
         "name": "",
         "showlegend": false,
         "type": "scatter",
         "visibility": true,
         "x": [
          3,
          18
         ],
         "xaxis": "x2",
         "y": [
          84.23550591327202,
          84.23550591327202
         ],
         "yaxis": "y2"
        },
        {
         "hoverinfo": "none",
         "line": {
          "color": "rgb(255,255,0)",
          "dash": "solid",
          "width": 2
         },
         "marker": {
          "color": "rgb(255,255,0)",
          "line": {
           "color": "rgb(255,255,0)"
          },
          "size": 6,
          "symbol": "none"
         },
         "mode": "lines",
         "name": "",
         "showlegend": false,
         "type": "scatter",
         "visibility": true,
         "x": [
          3,
          18
         ],
         "xaxis": "x2",
         "y": [
          94.79550591327202,
          94.79550591327202
         ],
         "yaxis": "y2"
        }
       ],
       "layout": {
        "annotations": [
         {
          "font": {
           "color": "rgb(0, 0, 0)",
           "size": 10.8
          },
          "showarrow": false,
          "text": "Cd<sup>2+</sup>",
          "x": 21,
          "xanchor": "left",
          "xref": "x2",
          "y": 7.868593955321941,
          "yanchor": "middle",
          "yref": "y2"
         },
         {
          "font": {
           "color": "rgb(0, 0, 0)",
           "size": 10.8
          },
          "showarrow": false,
          "text": "CdCl<sup>+</sup>",
          "x": 21,
          "xanchor": "left",
          "xref": "x2",
          "y": 19.517187910643884,
          "yanchor": "middle",
          "yref": "y2"
         },
         {
          "font": {
           "color": "rgb(0, 0, 0)",
           "size": 10.8
          },
          "showarrow": false,
          "text": "CdCl<sub>2</sub>",
          "x": 21,
          "xanchor": "left",
          "xref": "x2",
          "y": 30.416767411300906,
          "yanchor": "middle",
          "yref": "y2"
         },
         {
          "font": {
           "color": "rgb(0, 0, 0)",
           "size": 10.8
          },
          "showarrow": false,
          "text": "CdCl",
          "x": 21,
          "xanchor": "left",
          "xref": "x2",
          "y": 41.655926412614974,
          "yanchor": "middle",
          "yref": "y2"
         },
         {
          "font": {
           "color": "rgb(0, 0, 0)",
           "size": 10.8
          },
          "showarrow": false,
          "text": "data1",
          "x": 21,
          "xanchor": "left",
          "xref": "x2",
          "y": 52.555505913272015,
          "yanchor": "middle",
          "yref": "y2"
         },
         {
          "font": {
           "color": "rgb(0, 0, 0)",
           "size": 10.8
          },
          "showarrow": false,
          "text": "data2",
          "x": 21,
          "xanchor": "left",
          "xref": "x2",
          "y": 63.11550591327202,
          "yanchor": "middle",
          "yref": "y2"
         },
         {
          "font": {
           "color": "rgb(0, 0, 0)",
           "size": 10.8
          },
          "showarrow": false,
          "text": "data3",
          "x": 21,
          "xanchor": "left",
          "xref": "x2",
          "y": 73.67550591327202,
          "yanchor": "middle",
          "yref": "y2"
         },
         {
          "font": {
           "color": "rgb(0, 0, 0)",
           "size": 10.8
          },
          "showarrow": false,
          "text": "data4",
          "x": 21,
          "xanchor": "left",
          "xref": "x2",
          "y": 84.23550591327202,
          "yanchor": "middle",
          "yref": "y2"
         },
         {
          "font": {
           "color": "rgb(0, 0, 0)",
           "size": 10.8
          },
          "showarrow": false,
          "text": "data5",
          "x": 21,
          "xanchor": "left",
          "xref": "x2",
          "y": 94.79550591327202,
          "yanchor": "middle",
          "yref": "y2"
         }
        ],
        "height": 420,
        "hovermode": "closest",
        "margin": {
         "b": 0,
         "l": 0,
         "r": 0,
         "t": 0
        },
        "plot_bgcolor": "rgba(0, 0, 0, 0)",
        "showlegend": false,
        "width": 560,
        "xaxis": {
         "anchor": "y",
         "autorange": false,
         "domain": [
          0.13,
          0.905
         ],
         "exponentformat": "none",
         "gridcolor": "rgba(38,38,38,0.15)",
         "gridwidth": 2,
         "linecolor": "rgb(38,38,38)",
         "linewidth": 2,
         "mirror": "ticks",
         "range": [
          -3.5,
          0
         ],
         "showgrid": false,
         "showline": true,
         "side": "bottom",
         "spikedash": "solid",
         "spikemode": "across",
         "spikesides": false,
         "spikethickness": 1,
         "tickangle": 0,
         "tickcolor": "rgb(38,38,38)",
         "tickfont": {
          "color": "rgb(38,38,38)",
          "size": 12
         },
         "ticklen": 3,
         "ticks": "inside",
         "ticktext": [
          "-3.5",
          "-3",
          "-2.5",
          "-2",
          "-1.5",
          "-1",
          "-0.5",
          "0"
         ],
         "tickvals": [
          -3.5,
          -3,
          -2.5,
          -2,
          -1.5,
          -1,
          -0.5,
          0
         ],
         "title": {
          "font": {
           "color": "rgb(38,38,38)",
           "size": 13.200000000000001
          },
          "text": "log[Cl<sup>-</sup>]"
         },
         "type": "linear",
         "visible": true,
         "zeroline": false
        },
        "xaxis2": {
         "anchor": "y2",
         "autorange": false,
         "domain": [
          0.1443045112781955,
          0.2515225563909775
         ],
         "exponentformat": "none",
         "fixedrange": true,
         "gridcolor": "rgba(38,38,38,0.15)",
         "gridwidth": 1,
         "linecolor": "rgb(38,38,38)",
         "linewidth": 1,
         "mirror": true,
         "range": [
          0,
          44.97240473061761
         ],
         "showgrid": false,
         "showline": true,
         "showspikes": false,
         "side": "bottom",
         "spikedash": "solid",
         "spikemode": "across",
         "spikesides": false,
         "spikethickness": 1,
         "tickangle": 0,
         "tickcolor": "rgb(38,38,38)",
         "tickfont": {
          "color": "rgb(38,38,38)",
          "size": 10.8
         },
         "ticklen": 3,
         "ticks": "",
         "ticktext": [],
         "tickvals": [],
         "title": {
          "font": {
           "color": "rgb(0, 0, 0)",
           "size": 11.880000000000003
          },
          "text": ""
         },
         "type": "linear",
         "visible": true,
         "zeroline": false
        },
        "yaxis": {
         "anchor": "x",
         "autorange": false,
         "domain": [
          0.11,
          0.925
         ],
         "exponentformat": "none",
         "gridcolor": "rgba(38,38,38,0.15)",
         "gridwidth": 2,
         "linecolor": "rgb(38,38,38)",
         "linewidth": 2,
         "mirror": "ticks",
         "range": [
          0,
          1
         ],
         "showgrid": false,
         "showline": true,
         "side": "left",
         "spikedash": "solid",
         "spikemode": "across",
         "spikesides": false,
         "spikethickness": 1,
         "tickangle": 0,
         "tickcolor": "rgb(38,38,38)",
         "tickfont": {
          "color": "rgb(38,38,38)",
          "size": 12
         },
         "ticklen": 3,
         "ticks": "inside",
         "ticktext": [
          "0",
          "0.2",
          "0.4",
          "0.6",
          "0.8",
          "1"
         ],
         "tickvals": [
          0,
          0.2,
          0.4,
          0.6000000000000001,
          0.8,
          1
         ],
         "title": {
          "font": {
           "color": "rgb(38,38,38)",
           "size": 13.200000000000001
          },
          "text": "&#945;"
         },
         "type": "linear",
         "visible": true,
         "zeroline": false
        },
        "yaxis2": {
         "anchor": "x2",
         "autorange": false,
         "domain": [
          0.35605689223057635,
          0.6789431077694236
         ],
         "exponentformat": "none",
         "fixedrange": true,
         "gridcolor": "rgba(38,38,38,0.15)",
         "gridwidth": 1,
         "linecolor": "rgb(38,38,38)",
         "linewidth": 1,
         "mirror": true,
         "range": [
          101.57550591327202,
          0
         ],
         "showgrid": false,
         "showline": true,
         "showspikes": false,
         "side": "left",
         "spikedash": "solid",
         "spikemode": "across",
         "spikesides": false,
         "spikethickness": 1,
         "tickangle": 0,
         "tickcolor": "rgb(38,38,38)",
         "tickfont": {
          "color": "rgb(38,38,38)",
          "size": 10.8
         },
         "ticklen": 3,
         "ticks": "",
         "ticktext": [],
         "tickvals": [],
         "title": {
          "font": {
           "color": "rgb(0, 0, 0)",
           "size": 11.880000000000003
          },
          "text": ""
         },
         "type": "linear",
         "visible": true,
         "zeroline": false
        }
       }
      },
      "image/png": "[encoded data removed]"
     },
     "metadata": {},
     "output_type": "display_data"
    }
   ],
   "source": [
    "%plot -s 600,500 -f 'svg'\n",
    "logB1=1.35; logB2=1.7; logB3=1.9; B1=10^logB1; B2=10^logB2; B3=10^logB3;\n",
    "logCl=-3.5:0.1:0; Cl=10.^logCl;\n",
    "denominator=1+B1*Cl+B2*Cl.^2+B3*Cl.^3;\n",
    "alphaCd=1./denominator;\n",
    "alphaCdCl=(B1*Cl)./denominator;\n",
    "alphaCdCl2=(B2*Cl.^2)./denominator;\n",
    "alphaCdCl3=(B3*Cl.^3)./denominator;\n",
    "\n",
    "plot(logCl,alphaCd,'b','linewidth',2)\n",
    "hold on\n",
    "plot(logCl,alphaCdCl,'g','linewidth',2)\n",
    "plot(logCl,alphaCdCl2,'m','linewidth',2)\n",
    "plot(logCl,alphaCdCl3,'k','linewidth',2)\n",
    "xlabel('log[Cl^-]'); ylabel('\\alpha');\n",
    "legend('Cd^{2+}','CdCl^+','CdCl_2','CdCl_3^-','location','west')\n",
    "set(gca,'linewidth',2,'fontsize',12)\n",
    "title('Distribution diagram, Cd chloro complexation')\n",
    "\n",
    "% add stepwise values (well actually -1*stepwise K values.  when the two species are equal)\n",
    "\n",
    "plot([-1.35 -1.35],[0 1],'k:','linewidth',2)\n",
    "plot([-0.35 -0.35],[0 1],'k:','linewidth',2)\n",
    "plot([-0.2 -0.2],[0 1],'k:','linewidth',2)\n",
    "\n",
    "% and to determine predominant species\n",
    "\n",
    "plot([log10(0.5) log10(0.5)],[0 1],'y-','linewidth',2); % seawater\n",
    "plot([-3 -3],[0 1],'y-','linewidth',2); % freshwater"
   ]
  }
 ],
 "metadata": {
  "kernelspec": {
   "display_name": "Octave (xoctave)",
   "language": "Octave",
   "name": "xoctave"
  },
  "language_info": {
   "codemirror_mode": "octave",
   "file_extension": ".m",
   "mimetype": "text/x-octave",
   "name": "Octave",
   "nbconvert_exporter": "",
   "pygments_lexer": "octave",
   "version": "7.3.0"
  }
 },
 "nbformat": 4,
 "nbformat_minor": 4
}
