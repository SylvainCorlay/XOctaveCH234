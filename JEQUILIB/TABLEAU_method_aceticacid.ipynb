{
 "cells": [
  {
   "cell_type": "code",
   "execution_count": 1,
   "id": "16ba4d47-6066-48c0-af76-1f509a12c559",
   "metadata": {},
   "outputs": [
    {
     "name": "stderr",
     "output_type": "stream",
     "text": [
      "warning: function /home/ssmith/.local/share/octave/api-v57/packages/statistics-1.5.3/shadow9/mean.m shadows a core library function\n",
      "warning: called from\n",
      "    /home/ssmith/.local/share/octave/api-v57/packages/statistics-1.5.3/PKG_ADD at line 11 column 3\n",
      "    load_packages_and_dependencies at line 56 column 5\n",
      "    load_packages at line 53 column 3\n",
      "    pkg at line 632 column 7\n",
      "\n",
      "warning: function /home/ssmith/.local/share/octave/api-v57/packages/statistics-1.5.3/shadow9/median.m shadows a core library function\n",
      "warning: called from\n",
      "    /home/ssmith/.local/share/octave/api-v57/packages/statistics-1.5.3/PKG_ADD at line 11 column 3\n",
      "    load_packages_and_dependencies at line 56 column 5\n",
      "    load_packages at line 53 column 3\n",
      "    pkg at line 632 column 7\n",
      "\n",
      "warning: function /home/ssmith/.local/share/octave/api-v57/packages/statistics-1.5.3/shadow9/std.m shadows a core library function\n",
      "warning: called from\n",
      "    /home/ssmith/.local/share/octave/api-v57/packages/statistics-1.5.3/PKG_ADD at line 11 column 3\n",
      "    load_packages_and_dependencies at line 56 column 5\n",
      "    load_packages at line 53 column 3\n",
      "    pkg at line 632 column 7\n",
      "\n",
      "warning: function /home/ssmith/.local/share/octave/api-v57/packages/statistics-1.5.3/shadow9/var.m shadows a core library function\n",
      "warning: called from\n",
      "    /home/ssmith/.local/share/octave/api-v57/packages/statistics-1.5.3/PKG_ADD at line 11 column 3\n",
      "    load_packages_and_dependencies at line 56 column 5\n",
      "    load_packages at line 53 column 3\n",
      "    pkg at line 632 column 7\n",
      "\n"
     ]
    }
   ],
   "source": [
    "% some housekeeping stuff\n",
    "graphics_toolkit (\"plotly\")\n",
    "clear\n",
    "% load packages\n",
    "%pkg load statistics\n",
    "% clear and warning off\n",
    "clear\n",
    "warning off\n",
    "% end of housekeeping"
   ]
  },
  {
   "cell_type": "markdown",
   "id": "725f486a",
   "metadata": {
    "tags": []
   },
   "source": [
    "# TABLEAU METHOD\n",
    "\n",
    "![tableau](tableau.png)\n",
    "\n",
    "$\\mathbf{X}$ is a vector of log of the component concentrations\n",
    "\n",
    "$\\mathbf{A}$ is the stoichiometric matrix\n",
    "\n",
    "$\\mathbf{K}$ is a vector of the log of the equilibrium constants\n",
    "\n",
    "$\\mathbf{C}$ is a vector of the species concentrations\n",
    "\n",
    "$\\mathbf{T}$ is a vector of the total concentrations.\n",
    "\n",
    "Now the minimization problem is to determine $\\mathbf{X}$ that minimizes the residuals in the mass balance.  This calculation is performed as follows:\n",
    "\n",
    "\\begin{align}\n",
    " \\text{minimize $\\mathbf{R}$ as a function of $\\mathbf{X}$ where}\\quad\n",
    " \\mathbf{R}&=\\mathbf{A}'\\mathbf{C}-\\mathbf{T}\\\\\n",
    "  \\text{and} \\quad      \\mathbf{C}&=10^{(\\mathbf{K}+\\mathbf{A}\\times\\mathbf{X}')}\n",
    "\\end{align}\n"
   ]
  },
  {
   "cell_type": "markdown",
   "id": "3e7822de-a3ed-4977-8402-cbacd5ae9937",
   "metadata": {},
   "source": [
    "### simple example\n",
    "\n",
    "solve for pH of acetic acid.  pKa=4.75, assume total concentration of 0.01.\n",
    "\n",
    "run this using A as the component and again using HA.  TOTH will be 0 for the HA version (electroneutrality) and AT for the A version. \n",
    "\n",
    "ALSO ... \n",
    "1.  determine the pH of NaAc.  Use TOTH=0.\n",
    "2.  and determine the pH of half and half NaAc and HAc (TOTH=AT/2)\n",
    "3.  check the charge balance of both (1, 2)\n",
    "4.  add Na+ as a component and species and check the charge balance again.\n"
   ]
  },
  {
   "cell_type": "code",
   "execution_count": 2,
   "id": "427bc6af-2c1a-4ab7-a3a6-9ba8a4253e80",
   "metadata": {},
   "outputs": [
    {
     "data": {
      "text/plain": [
       "check = 1.0997e+14\n"
      ]
     },
     "metadata": {},
     "output_type": "display_data"
    },
    {
     "data": {
      "text/plain": [
       "H = 1.0512e-11\n"
      ]
     },
     "metadata": {},
     "output_type": "display_data"
    },
    {
     "data": {
      "text/plain": [
       "A = 9.0488e-03\n"
      ]
     },
     "metadata": {},
     "output_type": "display_data"
    },
    {
     "data": {
      "text/plain": [
       "OH = 9.5125e-04\n"
      ]
     },
     "metadata": {},
     "output_type": "display_data"
    },
    {
     "data": {
      "text/plain": [
       "HA = 9.5125e-04\n"
      ]
     },
     "metadata": {},
     "output_type": "display_data"
    },
    {
     "data": {
      "text/plain": [
       "H2A = 1.0000e-10\n"
      ]
     },
     "metadata": {},
     "output_type": "display_data"
    },
    {
     "data": {
      "text/plain": [
       "pH = 10.978\n"
      ]
     },
     "metadata": {},
     "output_type": "display_data"
    },
    {
     "data": {
      "text/plain": [
       "chargecheck = -0.020000\n"
      ]
     },
     "metadata": {},
     "output_type": "display_data"
    }
   ],
   "source": [
    "% start of tableau (problem definition)\n",
    "% you can change this part--------------\n",
    "\n",
    "AT=0.01; pKa1=4; pKa2=10;\n",
    "\n",
    "TABLEAU=[...\n",
    "%H  A   logK  species \n",
    "1   0    0     {'H'}\n",
    "0   1    0     {'A'}\n",
    "-1  0    -14   {'OH'}\n",
    "1   1    pKa2   {'HA'}\n",
    "2   1    pKa1+pKa2 {'H2A'}\n",
    "];\n",
    "\n",
    "T=[0; AT];\n",
    "\n",
    "% end of tableau.  ------------------ %\n",
    "\n",
    "% no changes below this line ----------\n",
    "[N,M]=size(TABLEAU);\n",
    "ASOLUTION=cell2mat(TABLEAU(1:N,1:M-2));\n",
    "KSOLUTION=cell2mat(TABLEAU(1:N,M-1));\n",
    "SOLUTIONNAMES=strvcat(TABLEAU(1:N,M));\n",
    "T(T==0)=1e-30;\n",
    "[X,F,J,SPECIESCONCS]=nl_massbalancerrnosolid_NR(T,ASOLUTION,KSOLUTION,T);\n",
    "check=100*(max(abs(F)./T)) %worst case error in%\n",
    "% this will generate the outputs\n",
    "\n",
    "for k=1:size(SPECIESCONCS,1)\n",
    "      txt=[SOLUTIONNAMES(k,:),'=SPECIESCONCS(k)'];\n",
    "      eval(txt)\n",
    "end\n",
    "\n",
    "pH=-log10(H)\n",
    "chargecheck=H-OH-2*A-HA"
   ]
  },
  {
   "cell_type": "code",
   "execution_count": null,
   "id": "20c387f0-c532-4372-8cd9-b515c6017d33",
   "metadata": {},
   "outputs": [],
   "source": []
  }
 ],
 "metadata": {
  "kernelspec": {
   "display_name": "Octave (xoctave)",
   "language": "Octave",
   "name": "xoctave"
  },
  "language_info": {
   "codemirror_mode": "octave",
   "file_extension": ".m",
   "mimetype": "text/x-octave",
   "name": "Octave",
   "nbconvert_exporter": "",
   "pygments_lexer": "octave",
   "version": "7.3.0"
  }
 },
 "nbformat": 4,
 "nbformat_minor": 5
}
