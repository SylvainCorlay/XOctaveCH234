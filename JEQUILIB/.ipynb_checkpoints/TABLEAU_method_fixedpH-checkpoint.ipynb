{
 "cells": [
  {
   "cell_type": "code",
   "execution_count": 1,
   "id": "16ba4d47-6066-48c0-af76-1f509a12c559",
   "metadata": {},
   "outputs": [],
   "source": [
    "% some housekeeping stuff\n",
    "%register_graphics_toolkit (\"gnuplot\");\n",
    "%available_graphics_toolkits ();\n",
    "graphics_toolkit (\"plotly\")\n",
    "clear\n",
    "% load packages\n",
    "%pkg load statistics\n",
    "% clear and warning off\n",
    "clear\n",
    "warning off\n",
    "% end of housekeeping"
   ]
  },
  {
   "cell_type": "markdown",
   "id": "3e7822de-a3ed-4977-8402-cbacd5ae9937",
   "metadata": {},
   "source": [
    "### simple example\n",
    "\n",
    "consider fixed pH.  you don't have to worry about TOTH!\n",
    "\n",
    "tableau for aluminum hydroxide with no solids"
   ]
  },
  {
   "cell_type": "code",
   "execution_count": 2,
   "id": "427bc6af-2c1a-4ab7-a3a6-9ba8a4253e80",
   "metadata": {},
   "outputs": [
    {
     "data": {
      "text/plain": [
       "check = 4.5103e-12\n"
      ]
     },
     "metadata": {},
     "output_type": "display_data"
    },
    {
     "data": {
      "text/plain": [
       "H = 1.0000e-06\n"
      ]
     },
     "metadata": {},
     "output_type": "display_data"
    },
    {
     "data": {
      "text/plain": [
       "Al = 2.9596e-07\n"
      ]
     },
     "metadata": {},
     "output_type": "display_data"
    },
    {
     "data": {
      "text/plain": [
       "OH = 1.0000e-08\n"
      ]
     },
     "metadata": {},
     "output_type": "display_data"
    },
    {
     "data": {
      "text/plain": [
       "AlOH = 3.0285e-06\n"
      ]
     },
     "metadata": {},
     "output_type": "display_data"
    },
    {
     "data": {
      "text/plain": [
       "AlOH2 = 1.4833e-04\n"
      ]
     },
     "metadata": {},
     "output_type": "display_data"
    },
    {
     "data": {
      "text/plain": [
       "AlOH3 = 2.9596e-04\n"
      ]
     },
     "metadata": {},
     "output_type": "display_data"
    },
    {
     "data": {
      "text/plain": [
       "AlOH4 = 2.9596e-06\n"
      ]
     },
     "metadata": {},
     "output_type": "display_data"
    },
    {
     "data": {
      "text/plain": [
       "Al13OH32 = 4.2264e-05\n"
      ]
     },
     "metadata": {},
     "output_type": "display_data"
    }
   ],
   "source": [
    "% INPUT THE TABLEAU & pH -----------------------------------------------------------\n",
    "\n",
    "AlT=1e-3; pH=6;\n",
    "\n",
    "TABLEAU=[...\n",
    "%H+   Al     logK    species\n",
    "1     0      0       {'H'}\n",
    "0     1      0       {'Al'}\n",
    "-1    0      -14     {'OH'}\n",
    "-1    1      -4.99   {'AlOH'}\n",
    "-2    1      -9.3    {'AlOH2'}\n",
    "-3    1      -15     {'AlOH3'}\n",
    "-4    1      -23     {'AlOH4'}\n",
    "-32   13     -111.5  {'Al13OH32'}\n",
    "];\n",
    "\n",
    "T=[AlT];\n",
    "\n",
    "% now take TABLEAU apart --------------------------------------------------\n",
    "\n",
    "[N,M]=size(TABLEAU);\n",
    "\n",
    "ASOLUTION=cell2mat(TABLEAU(1:N,1:M-2));\n",
    "KSOLUTION=cell2mat(TABLEAU(1:N,M-1));\n",
    "SOLUTIONNAMES=strvcat(TABLEAU(1:N,M));\n",
    "T(T==0)=1e-30;\n",
    "\n",
    "% fixed pH\n",
    "\n",
    "[Ksolution,Asolution]=get_equilib_fixed_pHsoln(KSOLUTION,ASOLUTION,pH);\n",
    "\n",
    "format short e\n",
    "\n",
    "X=T./10; [xans,masserr,J,SPECIESCONCS] = nl_massbalancerrnosolid_NR(X,Asolution,Ksolution,T);\n",
    "check=100*(max(masserr./T)) %worst case error in%\n",
    "% this will generate the outputs\n",
    "\n",
    "for k=1:size(SPECIESCONCS,1)\n",
    "      txt=[SOLUTIONNAMES(k,:),'=SPECIESCONCS(k)'];\n",
    "      eval(txt)\n",
    "end\n",
    "\n"
   ]
  },
  {
   "cell_type": "code",
   "execution_count": null,
   "id": "20c387f0-c532-4372-8cd9-b515c6017d33",
   "metadata": {},
   "outputs": [],
   "source": []
  },
  {
   "cell_type": "code",
   "execution_count": null,
   "id": "61500dd2-a070-45ff-b356-5d2e6c0fc005",
   "metadata": {},
   "outputs": [],
   "source": []
  }
 ],
 "metadata": {
  "kernelspec": {
   "display_name": "Octave (xoctave)",
   "language": "Octave",
   "name": "xoctave"
  },
  "language_info": {
   "codemirror_mode": "octave",
   "file_extension": ".m",
   "mimetype": "text/x-octave",
   "name": "Octave",
   "nbconvert_exporter": "",
   "pygments_lexer": "octave",
   "version": "7.3.0"
  }
 },
 "nbformat": 4,
 "nbformat_minor": 5
}
