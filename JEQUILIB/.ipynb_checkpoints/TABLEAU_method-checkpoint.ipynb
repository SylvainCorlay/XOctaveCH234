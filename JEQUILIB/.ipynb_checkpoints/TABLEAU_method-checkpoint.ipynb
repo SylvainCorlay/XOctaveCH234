{
 "cells": [
  {
   "cell_type": "code",
   "execution_count": 5,
   "id": "16ba4d47-6066-48c0-af76-1f509a12c559",
   "metadata": {},
   "outputs": [],
   "source": [
    "% some housekeeping stuff\n",
    "%register_graphics_toolkit (\"gnuplot\");\n",
    "%available_graphics_toolkits ();\n",
    "graphics_toolkit (\"plotly\")\n",
    "clear\n",
    "% load packages\n",
    "%pkg load statistics\n",
    "% clear and warning off\n",
    "clear\n",
    "warning off\n",
    "% end of housekeeping"
   ]
  },
  {
   "cell_type": "markdown",
   "id": "3e7822de-a3ed-4977-8402-cbacd5ae9937",
   "metadata": {},
   "source": [
    "### modify the tableau to solve simple problems in solution"
   ]
  },
  {
   "cell_type": "code",
   "execution_count": 6,
   "id": "427bc6af-2c1a-4ab7-a3a6-9ba8a4253e80",
   "metadata": {},
   "outputs": [
    {
     "data": {
      "text/plain": [
       "H = 4.2137e-09\n"
      ]
     },
     "metadata": {},
     "output_type": "display_data"
    },
    {
     "data": {
      "text/plain": [
       "A = 9.9976e-03\n"
      ]
     },
     "metadata": {},
     "output_type": "display_data"
    },
    {
     "data": {
      "text/plain": [
       "Na = 0.010000\n"
      ]
     },
     "metadata": {},
     "output_type": "display_data"
    },
    {
     "data": {
      "text/plain": [
       "OH = 2.3732e-06\n"
      ]
     },
     "metadata": {},
     "output_type": "display_data"
    },
    {
     "data": {
      "text/plain": [
       "HA = 2.3690e-06\n"
      ]
     },
     "metadata": {},
     "output_type": "display_data"
    },
    {
     "data": {
      "text/plain": [
       "pH = 8.3753\n"
      ]
     },
     "metadata": {},
     "output_type": "display_data"
    },
    {
     "data": {
      "text/plain": [
       "chargebalance = -6.9389e-18\n"
      ]
     },
     "metadata": {},
     "output_type": "display_data"
    }
   ],
   "source": [
    "% start of tableau (problem definition)\n",
    "% you can change this part--------------\n",
    "\n",
    "AT=0.01; pKa=4.75;\n",
    "\n",
    "TABLEAU=[...\n",
    "%H  A   logK  species \n",
    "1   0    0     {'H'}\n",
    "0   1    0     {'A'}\n",
    "-1  0    -14   {'OH'}\n",
    "1   1    pKa   {'HA'}\n",
    "];\n",
    "\n",
    "T=[AT; AT];\n",
    "\n",
    "% end of tableau.  ------------------------------------------------------------------- %\n",
    "\n",
    "% no changes below this line ------------------------------------------------------------\n",
    "[N,M]=size(TABLEAU);\n",
    "ASOLUTION=cell2mat(TABLEAU(1:N,1:M-2));\n",
    "KSOLUTION=cell2mat(TABLEAU(1:N,M-1));\n",
    "SOLUTIONNAMES=strvcat(TABLEAU(1:N,M));\n",
    "T(T==0)=1e-30;\n",
    "[X,F,J,SPECIESCONCS]=nl_massbalancerrnosolid_NR(T,ASOLUTION,KSOLUTION,T);\n",
    "%----------------------------------------------------------------------------------------\n",
    "\n",
    "% this will generate the outputs\n",
    "\n",
    "check=100*(max(abs(F)./T)) %worst case error in%\n",
    "\n",
    "for k=1:size(SPECIESCONCS,1)\n",
    "      txt=[SOLUTIONNAMES(k,:),'=SPECIESCONCS(k)'];\n",
    "      eval(txt)\n",
    "end\n",
    "\n",
    "pH=-log10(H)\n",
    "chargecheck=H-OH-A\n"
   ]
  },
  {
   "cell_type": "code",
   "execution_count": null,
   "id": "20c387f0-c532-4372-8cd9-b515c6017d33",
   "metadata": {},
   "outputs": [],
   "source": []
  },
  {
   "cell_type": "code",
   "execution_count": null,
   "id": "f54fc884-b5bd-4f08-b4d6-e06289ca6e88",
   "metadata": {},
   "outputs": [],
   "source": []
  }
 ],
 "metadata": {
  "kernelspec": {
   "display_name": "Octave (xoctave)",
   "language": "Octave",
   "name": "xoctave"
  },
  "language_info": {
   "codemirror_mode": "octave",
   "file_extension": ".m",
   "mimetype": "text/x-octave",
   "name": "Octave",
   "nbconvert_exporter": "",
   "pygments_lexer": "octave",
   "version": "7.3.0"
  }
 },
 "nbformat": 4,
 "nbformat_minor": 5
}
