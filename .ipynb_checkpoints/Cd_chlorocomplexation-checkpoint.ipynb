{
 "cells": [
  {
   "cell_type": "code",
   "execution_count": 13,
   "metadata": {},
   "outputs": [
    {
     "data": {
      "text/plain": [
       "ans = {\n",
       "  [1,1] = fltk\n",
       "  [1,2] = gnuplot\n",
       "  [1,3] = notebook\n",
       "  [1,4] = plotly\n",
       "}\n"
      ]
     },
     "metadata": {},
     "output_type": "display_data"
    }
   ],
   "source": [
    "% some housekeeping stuff\n",
    "%register_graphics_toolkit (\"gnuplot\");\n",
    "%available_graphics_toolkits ()\n",
    "graphics_toolkit (\"plotly\")\n",
    "clear\n",
    "% end of housekeeping"
   ]
  },
  {
   "cell_type": "markdown",
   "metadata": {},
   "source": [
    "# Cd chlorocomplexation\n",
    "\n",
    "The overall complexation constants for Cd$^{2+}$ with Cl$^-$ are $\\log{\\beta_1}=1.35$, $\\log{\\beta_1}=1.7$ and $\\log{\\beta_3}=1.9$ corresponding to the following reactions (in order)\n",
    "\n",
    "$\\mathrm{Cd^{2+}}+\\mathrm{Cl^-} \\leftrightharpoons \\mathrm{CdCl^+}$\n",
    "\n",
    "$\\mathrm{Cd^{2+}}+2\\mathrm{Cl^-} \\leftrightharpoons \\mathrm{CdCl_2^0}$\n",
    "\n",
    "$\\mathrm{Cd^{2+}}+3\\mathrm{Cl^-} \\leftrightharpoons \\mathrm{CdCl_3^-}$\n",
    "\n",
    "We derived the alpha expressions for these 4 species in class\n",
    "\n",
    "$\\alpha_{\\mathrm{Cd^{2+}}} = \\dfrac{1}{1+\\beta_1[\\mathrm{Cl^-}]+\\beta_2[\\mathrm{Cl^-}]^2+\\beta_3[\\mathrm{Cl^-}]^3}$\n",
    "\n",
    "\n",
    "$\\alpha_{\\mathrm{CdCl^{+}}} = \\dfrac{\\beta_1[\\mathrm{Cl^-}]}{1+\\beta_1[\\mathrm{Cl^-}]+\\beta_2[\\mathrm{Cl^-}]^2+\\beta_3[\\mathrm{Cl^-}]^3}$\n",
    "\n",
    "\n",
    "$\\alpha_{\\mathrm{CdCl_2^{0}}} = \\dfrac{\\beta_2[\\mathrm{Cl^-}]^2}{1+\\beta_1[\\mathrm{Cl^-}]+\\beta_2[\\mathrm{Cl^-}]^2+\\beta_3[\\mathrm{Cl^-}]^3}$\n",
    "\n",
    "\n",
    "$\\alpha_{\\mathrm{CdCl_3^{-}}} = \\dfrac{\\beta_3[\\mathrm{Cl^-}]^3}{1+\\beta_1[\\mathrm{Cl^-}]+\\beta_2[\\mathrm{Cl^-}]^2+\\beta_3[\\mathrm{Cl^-}]^3}$\n",
    "\n",
    "In class we learned how to quickly sketch the distribution diagram using the step-wise formation constants.  We can make a more quantitative sketch though using these expressions (note, we assume that $\\mathrm{Cd_T}<<\\mathrm{Cl_T}$ so that we can assume that $[\\mathrm{Cl^-}]=\\mathrm{Cl_T}$)."
   ]
  },
  {
   "cell_type": "code",
   "execution_count": 14,
   "metadata": {
    "tags": []
   },
   "outputs": [],
   "source": [
    "%plot -s 600,500 -f 'svg'\n",
    "logB1=1.35; logB2=1.7; logB3=1.9; B1=10^logB1; B2=10^logB2; B3=10^logB3;\n",
    "logCl=-3.5:0.1:0; Cl=10.^logCl;\n",
    "denominator=1+B1*Cl+B2*Cl.^2+B3*Cl.^3;\n",
    "alphaCd=1./denominator;\n",
    "alphaCdCl=(B1*Cl)./denominator;\n",
    "alphaCdCl2=(B2*Cl.^2)./denominator;\n",
    "alphaCdCl3=(B3*Cl.^3)./denominator;\n",
    "\n",
    "plot(logCl,alphaCd,'b','linewidth',2)\n",
    "hold on\n",
    "plot(logCl,alphaCdCl,'g','linewidth',2)\n",
    "plot(logCl,alphaCdCl2,'m','linewidth',2)\n",
    "plot(logCl,alphaCdCl3,'k','linewidth',2)\n",
    "xlabel('log[Cl^-]'); ylabel('\\alpha');\n",
    "legend('Cd^{2+}','CdCl^+','CdCl_2','CdCl_3^-','location','west')\n",
    "set(gca,'linewidth',2,'fontsize',12)\n",
    "title('Distribution diagram, Cd chloro complexation')\n",
    "\n",
    "% add stepwise values (well actually -1*stepwise K values.  when the two species are equal)\n",
    "\n",
    "plot([-1.35 -1.35],[0 1],'k:','linewidth',2)\n",
    "plot([-0.35 -0.35],[0 1],'k:','linewidth',2)\n",
    "plot([-0.2 -0.2],[0 1],'k:','linewidth',2)\n",
    "\n",
    "% and to determine predominant species\n",
    "\n",
    "plot([log10(0.6) log10(0.6)],[0 1],'y-','linewidth',2); % seawater\n",
    "plot([-3 -3],[0 1],'y-','linewidth',2); % freshwater"
   ]
  }
 ],
 "metadata": {
  "kernelspec": {
   "display_name": "Octave (xoctave)",
   "language": "Octave",
   "name": "xoctave"
  },
  "language_info": {
   "codemirror_mode": "octave",
   "file_extension": ".m",
   "mimetype": "text/x-octave",
   "name": "Octave",
   "nbconvert_exporter": "",
   "pygments_lexer": "octave",
   "version": "7.3.0"
  }
 },
 "nbformat": 4,
 "nbformat_minor": 4
}
