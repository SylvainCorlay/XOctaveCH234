{
 "cells": [
  {
   "cell_type": "code",
   "execution_count": 19,
   "metadata": {},
   "outputs": [],
   "source": [
    "% some housekeeping stuff\n",
    "%register_graphics_toolkit(\"gnuplot\");\n",
    "%available_graphics_toolkits();\n",
    "graphics_toolkit (\"plotly\")\n",
    "clear\n",
    "% end of housekeeping"
   ]
  },
  {
   "cell_type": "markdown",
   "metadata": {},
   "source": [
    "# REE (rare earth elements) for nutrient removal\n",
    "\n",
    "Rare earth elements form sparingly soluble salts with phosphate.  Their use in wastewater treatment for nutrient removal is being explored.\n",
    "\n",
    "Phosphate is a regulated chemical at the \"end of pipe\" of a wastewater treatment plant because excess phosphate can cause eutrophication in the receiving waters.\n",
    "\n",
    "Europium is a rare earth element that forms low solubility precipitates with phosphate.\n",
    "\n",
    "$EuPO4(s) = Eu^{3+}+ PO_4^{3-}$ Ksp=10$^{-24.0}$\n",
    "\n",
    "So let's model for a fixed pH the removal of phosphate from solution after addition of increasing amounts of europium nitrate (europium nitrate is soluble).\n",
    "\n",
    "We derived the equations in class. Assume total phosphate of 10 $\\mu$M.\n",
    "\n",
    "\n"
   ]
  },
  {
   "cell_type": "code",
   "execution_count": 20,
   "metadata": {},
   "outputs": [
    {
     "data": {
      "application/vnd.plotly.v1+json": {
       "data": [
        {
         "line": {
          "color": "rgb(0, 0, 0)",
          "width": 0.5
         },
         "marker": {
          "color": "rgb(0, 0, 0)",
          "line": {
           "color": "rgb(0, 0, 0)"
          },
          "size": 4,
          "symbol": "circle"
         },
         "mode": "markers",
         "name": "",
         "showlegend": false,
         "type": "scatter",
         "visibility": true,
         "x": [
          0.009999999999999998,
          0.09999999999999999,
          0.3,
          0.4999999999999999,
          0.7,
          0.8999999999999999,
          1.0999999999999999,
          1.3,
          1.5,
          1.7,
          1.9,
          2.0999999999999996,
          2.3,
          2.5,
          2.6999999999999997,
          2.9,
          3.099999999999999,
          3.2999999999999994,
          3.4999999999999996,
          3.6999999999999993,
          3.899999999999999,
          4.099999999999999,
          4.299999999999999,
          4.499999999999999,
          4.699999999999999,
          4.8999999999999995,
          5.099999999999999,
          5.299999999999999,
          5.499999999999999,
          5.699999999999999,
          5.8999999999999995,
          6.099999999999999,
          6.3,
          6.499999999999999,
          6.699999999999998,
          6.8999999999999995,
          7.099999999999999,
          7.299999999999999,
          7.499999999999999,
          7.699999999999998,
          7.899999999999999,
          8.099999999999998,
          8.299999999999999,
          8.499999999999998,
          8.699999999999998,
          8.899999999999999,
          9.099999999999998,
          9.299999999999999,
          9.499999999999998,
          9.7,
          9.899999999999999
         ],
         "xaxis": "x",
         "y": [
          0,
          0,
          0,
          0,
          0,
          2.4401686493518184,
          12.440168649351824,
          21.366019097442905,
          29.25386493617385,
          36.170235355635775,
          42.20251763948483,
          47.448512889591115,
          52.007423342679594,
          55.97343834395442,
          59.43200097293728,
          62.45822402102627,
          65.11675447123616,
          67.46247128387841,
          69.54157346846576,
          71.39278017257189,
          73.0484882891095,
          74.53581413571155,
          75.87749372520342,
          77.09264192642952,
          78.19738304445819,
          79.20536990077714,
          80.12820901753707,
          80.97580813159334,
          81.75666015354095,
          82.47807544757664,
          83.14637222360064,
          83.76703301467948,
          84.34483368435671,
          84.88395015156398,
          85.38804700135944,
          85.86035133024515,
          86.30371451857313,
          86.72066409890893,
          87.11344747140276,
          87.48406888365115,
          87.83432082622772,
          88.16581078140497,
          88.47998409160243,
          88.77814357592499,
          89.06146641219593,
          89.33101871148727,
          89.58776813909249,
          89.83259487625158,
          90.06630116803137,
          90.28961966279225,
          90.50322071585252
         ],
         "yaxis": "y"
        }
       ],
       "layout": {
        "height": 420,
        "hovermode": "closest",
        "margin": {
         "b": 0,
         "l": 0,
         "r": 0,
         "t": 0
        },
        "plot_bgcolor": "rgba(0, 0, 0, 0)",
        "showlegend": false,
        "width": 560,
        "xaxis": {
         "anchor": "y",
         "autorange": false,
         "domain": [
          0.13,
          0.905
         ],
         "exponentformat": "none",
         "gridcolor": "rgba(38,38,38,0.15)",
         "gridwidth": 1.5,
         "linecolor": "rgb(38,38,38)",
         "linewidth": 1.5,
         "mirror": "ticks",
         "range": [
          0,
          10
         ],
         "showgrid": false,
         "showline": true,
         "side": "bottom",
         "spikedash": "solid",
         "spikemode": "across",
         "spikesides": false,
         "spikethickness": 1,
         "tickangle": 0,
         "tickcolor": "rgb(38,38,38)",
         "tickfont": {
          "color": "rgb(38,38,38)",
          "size": 10
         },
         "ticklen": 3,
         "ticks": "inside",
         "ticktext": [
          "0",
          "2",
          "4",
          "6",
          "8",
          "10"
         ],
         "tickvals": [
          0,
          2,
          4,
          6,
          8,
          10
         ],
         "title": {
          "font": {
           "color": "rgb(38,38,38)",
           "size": 11
          },
          "text": "molar dose of Europium"
         },
         "type": "linear",
         "visible": true,
         "zeroline": false
        },
        "yaxis": {
         "anchor": "x",
         "autorange": false,
         "domain": [
          0.11,
          0.9249999999999999
         ],
         "exponentformat": "none",
         "gridcolor": "rgba(38,38,38,0.15)",
         "gridwidth": 1.5,
         "linecolor": "rgb(38,38,38)",
         "linewidth": 1.5,
         "mirror": "ticks",
         "range": [
          0,
          100
         ],
         "showgrid": false,
         "showline": true,
         "side": "left",
         "spikedash": "solid",
         "spikemode": "across",
         "spikesides": false,
         "spikethickness": 1,
         "tickangle": 0,
         "tickcolor": "rgb(38,38,38)",
         "tickfont": {
          "color": "rgb(38,38,38)",
          "size": 10
         },
         "ticklen": 3,
         "ticks": "inside",
         "ticktext": [
          "0",
          "20",
          "40",
          "60",
          "80",
          "100"
         ],
         "tickvals": [
          0,
          20,
          40,
          60,
          80,
          100
         ],
         "title": {
          "font": {
           "color": "rgb(38,38,38)",
           "size": 11
          },
          "text": "% solid P as EuPO4s"
         },
         "type": "linear",
         "visible": true,
         "zeroline": false
        }
       }
      },
      "image/png": "[encoded data removed]"
     },
     "metadata": {},
     "output_type": "display_data"
    }
   ],
   "source": [
    "%plot -s 600,500 -f 'svg'\n",
    "PT=1e-5; EuT=[1e-7 1e-6:2e-6:10e-5]; pH=3; \n",
    "H=10^-pH;\n",
    "Ka1=7.5*10^-3; Ka2=6.2*10^-8; Ka3=2.14*10^-13; %mol/l\n",
    "Ksp=10^-24; \n",
    "\n",
    "for i=1:size(EuT,2)\n",
    "\n",
    "% first test for supersaturation\n",
    "\n",
    "PO4tst=(PT*Ka1*Ka2*Ka3)./(Ka1*Ka2*Ka3+Ka1*Ka2*H+Ka1*H^2+H^3);\n",
    "Eutst=EuT(i);\n",
    "Qsp=Eutst*PO4tst;\n",
    "SItst=Qsp/Ksp;\n",
    "if SItst<1; %disp('undersaturated'); \n",
    "EuPO4s(i)=0; end\n",
    "\n",
    "if SItst>=1\n",
    "\n",
    "%disp('supersaturated');    \n",
    "\n",
    "a=1+H/Ka3+(H^2)/(Ka3*Ka2)+(H^3)/(Ka3*Ka2*Ka1);\n",
    "b=EuT(i)-PT;\n",
    "c=-Ksp;\n",
    "t=roots([a b c]); \n",
    "t(imag(t)==0); %sets any imaginary roots to zero\n",
    "t=t(t>0); %t=t(t<EuT(i));\n",
    "\n",
    "PO4(i)=t; Eu(i)=Ksp/PO4(i); EuPO4s(i)=EuT(i)-Eu(i);\n",
    "\n",
    "\n",
    "end\n",
    "\n",
    "end\n",
    "\n",
    "plot(EuT./PT,100*(EuPO4s./PT),'ko','markerfacecolor','b','markersize',4)\n",
    "xlabel('molar dose of Europium'); ylabel('% solid P as EuPO4s')\n",
    "set(gca,'linewidth',1.5)"
   ]
  },
  {
   "cell_type": "code",
   "execution_count": null,
   "metadata": {},
   "outputs": [],
   "source": []
  }
 ],
 "metadata": {
  "kernelspec": {
   "display_name": "Octave (xoctave)",
   "language": "Octave",
   "name": "xoctave"
  },
  "language_info": {
   "codemirror_mode": "octave",
   "file_extension": ".m",
   "mimetype": "text/x-octave",
   "name": "Octave",
   "nbconvert_exporter": "",
   "pygments_lexer": "octave",
   "version": "7.3.0"
  }
 },
 "nbformat": 4,
 "nbformat_minor": 4
}
