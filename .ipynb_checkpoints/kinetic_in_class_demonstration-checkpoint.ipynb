{
 "cells": [
  {
   "cell_type": "code",
   "execution_count": 14,
   "metadata": {},
   "outputs": [],
   "source": [
    "% some housekeeping stuff\n",
    "%register_graphics_toolkit (\"gnuplot\");\n",
    "%available_graphics_toolkits ();\n",
    "graphics_toolkit (\"plotly\")\n",
    "clear\n",
    "% end of housekeeping"
   ]
  },
  {
   "cell_type": "markdown",
   "metadata": {},
   "source": [
    "# simulate first order kinetics\n",
    "\n"
   ]
  },
  {
   "cell_type": "code",
   "execution_count": 15,
   "metadata": {},
   "outputs": [
    {
     "data": {
      "application/vnd.plotly.v1+json": {
       "data": [
        {
         "line": {
          "color": "rgb(0, 0, 0)",
          "width": 0.5
         },
         "marker": {
          "color": "rgb(0, 0, 0)",
          "line": {
           "color": "rgb(0, 0, 0)"
          },
          "size": 8,
          "symbol": "circle"
         },
         "mode": "markers",
         "name": "",
         "showlegend": false,
         "type": "scatter",
         "visibility": true,
         "x": [
          0,
          1,
          2,
          3,
          4,
          5,
          6,
          7,
          8,
          9,
          10
         ],
         "xaxis": "x",
         "y": [
          100,
          90,
          81,
          73,
          66,
          60,
          54,
          49,
          44,
          40,
          36
         ],
         "yaxis": "y"
        }
       ],
       "layout": {
        "height": 420,
        "hovermode": "closest",
        "margin": {
         "b": 0,
         "l": 0,
         "r": 0,
         "t": 0
        },
        "plot_bgcolor": "rgba(0, 0, 0, 0)",
        "showlegend": false,
        "width": 560,
        "xaxis": {
         "anchor": "y",
         "autorange": false,
         "domain": [
          0.13,
          0.905
         ],
         "exponentformat": "none",
         "gridcolor": "rgba(38,38,38,0.15)",
         "gridwidth": 1.5,
         "linecolor": "rgb(38,38,38)",
         "linewidth": 1.5,
         "mirror": "ticks",
         "range": [
          0,
          10
         ],
         "showgrid": false,
         "showline": true,
         "side": "bottom",
         "spikedash": "solid",
         "spikemode": "across",
         "spikesides": false,
         "spikethickness": 1,
         "tickangle": 0,
         "tickcolor": "rgb(38,38,38)",
         "tickfont": {
          "color": "rgb(38,38,38)",
          "size": 12
         },
         "ticklen": 3,
         "ticks": "inside",
         "ticktext": [
          "0",
          "2",
          "4",
          "6",
          "8",
          "10"
         ],
         "tickvals": [
          0,
          2,
          4,
          6,
          8,
          10
         ],
         "title": {
          "font": {
           "color": "rgb(38,38,38)",
           "size": 14
          },
          "text": "time"
         },
         "type": "linear",
         "visible": true,
         "zeroline": false
        },
        "yaxis": {
         "anchor": "x",
         "autorange": false,
         "domain": [
          0.11,
          0.9249999999999999
         ],
         "exponentformat": "none",
         "gridcolor": "rgba(38,38,38,0.15)",
         "gridwidth": 1.5,
         "linecolor": "rgb(38,38,38)",
         "linewidth": 1.5,
         "mirror": "ticks",
         "range": [
          30,
          100
         ],
         "showgrid": false,
         "showline": true,
         "side": "left",
         "spikedash": "solid",
         "spikemode": "across",
         "spikesides": false,
         "spikethickness": 1,
         "tickangle": 0,
         "tickcolor": "rgb(38,38,38)",
         "tickfont": {
          "color": "rgb(38,38,38)",
          "size": 12
         },
         "ticklen": 3,
         "ticks": "inside",
         "ticktext": [
          "30",
          "40",
          "50",
          "60",
          "70",
          "80",
          "90",
          "100"
         ],
         "tickvals": [
          30,
          40,
          50,
          60,
          70,
          80,
          90,
          100
         ],
         "title": {
          "font": {
           "color": "rgb(38,38,38)",
           "size": 14
          },
          "text": "count"
         },
         "type": "linear",
         "visible": true,
         "zeroline": false
        }
       }
      },
      "image/png": "[encoded data removed]"
     },
     "metadata": {},
     "output_type": "display_data"
    }
   ],
   "source": [
    "%insert data\n",
    "\n",
    "data=[...\n",
    "%time   count\n",
    "0        100\n",
    "1         90\n",
    "2         81\n",
    "3         73\n",
    "4         66\n",
    "5         60\n",
    "6         54 \n",
    "7         49\n",
    "8         44\n",
    "9         40\n",
    "10        36\n",
    "];\n",
    "\n",
    "time=data(:,1); count=data(:,2);\n",
    "\n",
    "plot(time,count,'ko','markersize',8,'markerfacecolor','b')\n",
    "set(gca,'linewidth',1.5,'fontsize',12)\n",
    "xlabel('time','fontsize',14); ylabel('count','fontsize',14)"
   ]
  },
  {
   "cell_type": "code",
   "execution_count": 16,
   "metadata": {},
   "outputs": [
    {
     "data": {
      "application/vnd.plotly.v1+json": {
       "data": [
        {
         "line": {
          "color": "rgb(0, 0, 0)",
          "width": 0.5
         },
         "marker": {
          "color": "rgb(0, 0, 0)",
          "line": {
           "color": "rgb(0, 0, 0)"
          },
          "size": 8,
          "symbol": "circle"
         },
         "mode": "markers",
         "name": "",
         "showlegend": false,
         "type": "scatter",
         "visibility": true,
         "x": [
          0,
          1,
          2,
          3,
          4,
          5,
          6,
          7,
          8,
          9,
          10
         ],
         "xaxis": "x",
         "y": [
          4.605170185988092,
          4.499809670330265,
          4.394449154672439,
          4.290459441148391,
          4.189654742026425,
          4.0943445622221,
          3.9889840465642745,
          3.8918202981106265,
          3.784189633918261,
          3.6888794541139363,
          3.58351893845611
         ],
         "yaxis": "y"
        },
        {
         "line": {
          "color": "rgb(0, 0, 0)",
          "dash": "solid",
          "width": 2
         },
         "marker": {
          "color": "rgb(0, 0, 0)",
          "line": {
           "color": "rgb(0, 0, 0)"
          },
          "size": 6,
          "symbol": "none"
         },
         "mode": "lines",
         "name": "",
         "showlegend": false,
         "type": "scatter",
         "visibility": true,
         "x": [
          0,
          1,
          2,
          3,
          4,
          5,
          6,
          7,
          8,
          9,
          10
         ],
         "xaxis": "x",
         "y": [
          4.600148404610332,
          4.498505635098282,
          4.3968628655862325,
          4.295220096074183,
          4.193577326562133,
          4.0919345570500845,
          3.990291787538035,
          3.888649018025985,
          3.7870062485139355,
          3.685363479001886,
          3.5837207094898362
         ],
         "yaxis": "y"
        }
       ],
       "layout": {
        "annotations": [
         {
          "font": {
           "color": "rgb(0, 0, 0)",
           "size": 15
          },
          "showarrow": false,
          "text": "N<sub>0</sub> = 99.4991",
          "x": 5,
          "xanchor": "left",
          "xref": "x",
          "y": 4.605170185988092,
          "yanchor": "middle",
          "yref": "y"
         },
         {
          "font": {
           "color": "rgb(0, 0, 0)",
           "size": 15
          },
          "showarrow": false,
          "text": "Slope = -0.10164",
          "x": 5,
          "xanchor": "left",
          "xref": "x",
          "y": 4.374911676688687,
          "yanchor": "middle",
          "yref": "y"
         }
        ],
        "height": 420,
        "hovermode": "closest",
        "margin": {
         "b": 0,
         "l": 0,
         "r": 0,
         "t": 0
        },
        "plot_bgcolor": "rgba(0, 0, 0, 0)",
        "showlegend": false,
        "width": 560,
        "xaxis": {
         "anchor": "y",
         "autorange": false,
         "domain": [
          0.13,
          0.905
         ],
         "exponentformat": "none",
         "gridcolor": "rgba(38,38,38,0.15)",
         "gridwidth": 1.5,
         "linecolor": "rgb(38,38,38)",
         "linewidth": 1.5,
         "mirror": "ticks",
         "range": [
          0,
          10
         ],
         "showgrid": false,
         "showline": true,
         "side": "bottom",
         "spikedash": "solid",
         "spikemode": "across",
         "spikesides": false,
         "spikethickness": 1,
         "tickangle": 0,
         "tickcolor": "rgb(38,38,38)",
         "tickfont": {
          "color": "rgb(38,38,38)",
          "size": 12
         },
         "ticklen": 3,
         "ticks": "inside",
         "ticktext": [
          "0",
          "2",
          "4",
          "6",
          "8",
          "10"
         ],
         "tickvals": [
          0,
          2,
          4,
          6,
          8,
          10
         ],
         "title": {
          "font": {
           "color": "rgb(38,38,38)",
           "size": 14
          },
          "text": "time"
         },
         "type": "linear",
         "visible": true,
         "zeroline": false
        },
        "yaxis": {
         "anchor": "x",
         "autorange": false,
         "domain": [
          0.11,
          0.9249999999999999
         ],
         "exponentformat": "none",
         "gridcolor": "rgba(38,38,38,0.15)",
         "gridwidth": 1.5,
         "linecolor": "rgb(38,38,38)",
         "linewidth": 1.5,
         "mirror": "ticks",
         "range": [
          3.4000000000000004,
          5
         ],
         "showgrid": false,
         "showline": true,
         "side": "left",
         "spikedash": "solid",
         "spikemode": "across",
         "spikesides": false,
         "spikethickness": 1,
         "tickangle": 0,
         "tickcolor": "rgb(38,38,38)",
         "tickfont": {
          "color": "rgb(38,38,38)",
          "size": 12
         },
         "ticklen": 3,
         "ticks": "inside",
         "ticktext": [
          "3.4",
          "3.6",
          "3.8",
          "4",
          "4.2",
          "4.4",
          "4.6",
          "4.8",
          "5"
         ],
         "tickvals": [
          3.4000000000000004,
          3.6,
          3.8000000000000003,
          4,
          4.2,
          4.4,
          4.6000000000000005,
          4.800000000000001,
          5
         ],
         "title": {
          "font": {
           "color": "rgb(38,38,38)",
           "size": 14
          },
          "text": "ln(count)"
         },
         "type": "linear",
         "visible": true,
         "zeroline": false
        }
       }
      },
      "image/png": "[encoded data removed]"
     },
     "metadata": {},
     "output_type": "display_data"
    }
   ],
   "source": [
    "% now linearize the plot and determine rate constant and No\n",
    "\n",
    "x=time;  y=log(count);\n",
    "\n",
    "param=polyfit(x,y,1); slope=param(1); intercept=param(2);\n",
    "\n",
    "fit=slope*time+intercept;\n",
    "\n",
    "% plot it\n",
    "\n",
    "plot(x,y,'ko','markersize',8,'markerfacecolor','b')\n",
    "hold on\n",
    "plot(x,fit,'k','linewidth',2)\n",
    "\n",
    "set(gca,'linewidth',1.5,'fontsize',12)\n",
    "xlabel('time','fontsize',14); ylabel('ln(count)','fontsize',14)\n",
    "\n",
    "Nostr=num2str(exp(intercept));\n",
    "slopestr=num2str(slope);\n",
    "\n",
    "timept=min(time)+0.5*(max(time)-min(time));\n",
    "%lncountpt=min(y)+0.5*(max(y)-min(y));\n",
    "lncountpt=max(y);\n",
    "\n",
    "Noplt=['N_0 = ',Nostr];\n",
    "text(timept,lncountpt,Noplt,'fontsize',15)\n",
    "slopeplt=['Slope = ',slopestr];\n",
    "text(timept,lncountpt-0.05*lncountpt,slopeplt,'fontsize',15)"
   ]
  },
  {
   "cell_type": "code",
   "execution_count": 17,
   "metadata": {},
   "outputs": [
    {
     "data": {
      "application/vnd.plotly.v1+json": {
       "data": [
        {
         "line": {
          "color": "rgb(0, 0, 0)",
          "width": 0.5
         },
         "marker": {
          "color": "rgb(0, 0, 0)",
          "line": {
           "color": "rgb(0, 0, 0)"
          },
          "size": 8,
          "symbol": "circle"
         },
         "mode": "markers",
         "name": "",
         "showlegend": false,
         "type": "scatter",
         "visibility": true,
         "x": [
          0,
          1,
          2,
          3,
          4,
          5,
          6,
          7,
          8,
          9,
          10
         ],
         "xaxis": "x",
         "y": [
          100,
          90,
          81,
          73,
          66,
          60,
          54,
          49,
          44,
          40,
          36
         ],
         "yaxis": "y"
        },
        {
         "line": {
          "color": "rgb(0, 0, 0)",
          "dash": "solid",
          "width": 2
         },
         "marker": {
          "color": "rgb(0, 0, 0)",
          "line": {
           "color": "rgb(0, 0, 0)"
          },
          "size": 6,
          "symbol": "none"
         },
         "mode": "lines",
         "name": "",
         "showlegend": false,
         "type": "scatter",
         "visibility": true,
         "x": [
          0,
          1,
          2,
          3,
          4,
          5,
          6,
          7,
          8,
          9,
          10
         ],
         "xaxis": "x",
         "y": [
          99.49908066860269,
          89.88271331872444,
          81.1957467269879,
          73.34835635385477,
          66.25939900401045,
          59.855573793535065,
          54.07066420775223,
          48.84485341252007,
          44.12410573918035,
          39.85960794762715,
          36.007264490071336
         ],
         "yaxis": "y"
        }
       ],
       "layout": {
        "height": 420,
        "hovermode": "closest",
        "margin": {
         "b": 0,
         "l": 0,
         "r": 0,
         "t": 0
        },
        "plot_bgcolor": "rgba(0, 0, 0, 0)",
        "showlegend": false,
        "width": 560,
        "xaxis": {
         "anchor": "y",
         "autorange": false,
         "domain": [
          0.13,
          0.905
         ],
         "exponentformat": "none",
         "gridcolor": "rgba(38,38,38,0.15)",
         "gridwidth": 1.5,
         "linecolor": "rgb(38,38,38)",
         "linewidth": 1.5,
         "mirror": "ticks",
         "range": [
          0,
          10
         ],
         "showgrid": false,
         "showline": true,
         "side": "bottom",
         "spikedash": "solid",
         "spikemode": "across",
         "spikesides": false,
         "spikethickness": 1,
         "tickangle": 0,
         "tickcolor": "rgb(38,38,38)",
         "tickfont": {
          "color": "rgb(38,38,38)",
          "size": 12
         },
         "ticklen": 3,
         "ticks": "inside",
         "ticktext": [
          "0",
          "2",
          "4",
          "6",
          "8",
          "10"
         ],
         "tickvals": [
          0,
          2,
          4,
          6,
          8,
          10
         ],
         "title": {
          "font": {
           "color": "rgb(38,38,38)",
           "size": 14
          },
          "text": "time"
         },
         "type": "linear",
         "visible": true,
         "zeroline": false
        },
        "yaxis": {
         "anchor": "x",
         "autorange": false,
         "domain": [
          0.11,
          0.9249999999999999
         ],
         "exponentformat": "none",
         "gridcolor": "rgba(38,38,38,0.15)",
         "gridwidth": 1.5,
         "linecolor": "rgb(38,38,38)",
         "linewidth": 1.5,
         "mirror": "ticks",
         "range": [
          30,
          100
         ],
         "showgrid": false,
         "showline": true,
         "side": "left",
         "spikedash": "solid",
         "spikemode": "across",
         "spikesides": false,
         "spikethickness": 1,
         "tickangle": 0,
         "tickcolor": "rgb(38,38,38)",
         "tickfont": {
          "color": "rgb(38,38,38)",
          "size": 12
         },
         "ticklen": 3,
         "ticks": "inside",
         "ticktext": [
          "30",
          "40",
          "50",
          "60",
          "70",
          "80",
          "90",
          "100"
         ],
         "tickvals": [
          30,
          40,
          50,
          60,
          70,
          80,
          90,
          100
         ],
         "title": {
          "font": {
           "color": "rgb(38,38,38)",
           "size": 14
          },
          "text": "count"
         },
         "type": "linear",
         "visible": true,
         "zeroline": false
        }
       }
      },
      "image/png": "[encoded data removed]"
     },
     "metadata": {},
     "output_type": "display_data"
    }
   ],
   "source": [
    "% plot the exponential version\n",
    "\n",
    "model=exp(intercept)*exp(slope*time);\n",
    "\n",
    "plot(time,count,'ko','markersize',8,'markerfacecolor','b')\n",
    "set(gca,'linewidth',1.5,'fontsize',12)\n",
    "xlabel('time','fontsize',14); ylabel('count','fontsize',14)\n",
    "\n",
    "hold on\n",
    "plot(time,model,'k','linewidth',2)\n",
    "\n"
   ]
  }
 ],
 "metadata": {
  "kernelspec": {
   "display_name": "Octave (xoctave)",
   "language": "Octave",
   "name": "xoctave"
  },
  "language_info": {
   "codemirror_mode": "octave",
   "file_extension": ".m",
   "mimetype": "text/x-octave",
   "name": "Octave",
   "nbconvert_exporter": "",
   "pygments_lexer": "octave",
   "version": "7.3.0"
  }
 },
 "nbformat": 4,
 "nbformat_minor": 4
}
